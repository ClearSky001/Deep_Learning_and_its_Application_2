{
 "cells": [
  {
   "cell_type": "markdown",
   "metadata": {},
   "source": [
    "# Residual Networks\n",
    "\n",
    "이번 실습에서는 아주 깊은 CNN인 Residual Networks를 직접 구현해본다. 일반적으로 아주 깊은 neural network는 아주 복잡한 함수를 학습할 수 있지만 학습이 어렵다.\n",
    "논문 [He et al.](https://arxiv.org/pdf/1512.03385.pdf)이 소개한 Residual Network는 아주 깊은 모델을 학습할 수 있는 방법을 제안하였다.\n",
    "\n",
    "이 실습은 아래 과정으로 이루어진다:\n",
    "- skip connection을 포함한 ResNets의 기본 building block을 pytorch로 직접 구현한다.\n",
    "- building block을 쌓아 resnet을 구현하고 이미지 분류를 시도한다.\n",
    "- pytorch에서 제공하는 pre-trained model을 이용하여 transfer learning을 수행한다."
   ]
  },
  {
   "cell_type": "code",
   "execution_count": 20,
   "metadata": {},
   "outputs": [],
   "source": [
    "import torch\n",
    "from torch import nn\n",
    "import torch.nn.functional as F\n",
    "\n",
    "from torchvision import datasets, transforms\n",
    "from torchvision import models\n",
    "\n",
    "import wandb\n",
    "\n",
    "from training_utilities import train_loop, evaluation_loop, create_dataloaders, save_checkpoint, load_checkpoint\n",
    "\n",
    "from torch.utils.data import DataLoader"
   ]
  },
  {
   "cell_type": "markdown",
   "metadata": {},
   "source": [
    "## The Problem of Very Deep Neural Networks\n",
    "\n",
    "최근 neural network는 점점더 깊어지고 있으며 AlexNet이 몇개의 layer만 가졌다면 최신 neural network는 수백개의 layer들로 이루어진다.\n",
    "\n",
    "* 깊은 네트워크의 가장 중요한 장점은 아주 복잡한 함수도 학습할 수 있다는 것이다. 따라서 edges와 같이 간단한 feature부터 아주 복잡한 features까지 다양한 층위의 feature들을 학습할 수 있다\n",
    "\n",
    "* 하지만 신경망이 깊어지는것이 항상 좋은 결과를 만드는 것은 아니다. 가장 큰 어려움은 vanishing gradients로, 깊은 신경망에서 gradient값이 아주 빨리 0에 가까워져 학습이 아주 느려지는 것이다.\n",
    "\n",
    "* 좀더 구체적으로는 backpropagate이 마지막 레이어(layer)부터 첫번째 레이어까지 진행되는 과정에서, weight matrix가 계속해서 곱해지며 따라서 gradient값이 기하급수적으로 빠르게 0으로 수렴한다. (또는 아주 드물게 gradient값이 기하급수적으로 증가하여 gradient explode가 발생하기도 함). \n",
    "\n",
    "* 따라서 아래와 같이 학습과정에서 얕은 layer의 gradient의 크기(norm)가 빠르게 0으로 감소하는 것을 확인할 수 있다."
   ]
  },
  {
   "cell_type": "markdown",
   "metadata": {},
   "source": [
    "<center><img src=\"resources/vanishing_grad_kiank.png\" style=\"width:450px;height:220px;\"></center>\n",
    "<caption><center> <u> <b>Figure</b> </u>  : <b>Vanishing gradient</b> <br> 얕은 레이어에서 학습 속도가 아주 빠르게 감소한다 </center></caption>\n",
    "\n",
    "\n",
    "이러한 문제를 ResNet을 통해 해결할 수 있다"
   ]
  },
  {
   "cell_type": "markdown",
   "metadata": {},
   "source": [
    "## Building a Residual Network\n",
    "\n",
    "ResNets 에서는 \"shortcut\" 또는 \"skip connection\" 을 통해 레이어를 스킵할수 있도록 해준다.\n",
    "\n",
    "<center><img src=\"resources/skip_connection_kiank.png\" style=\"width:650px;height:200px;\"></center>\n",
    "<caption><center> <u> <b>Figure</b> </u>  : skip-connection <br> </center></caption>\n",
    "\n",
    "왼쪽 이미지는 신경망의 \"main path\"를 보여준다. 오른쪽의 이미지는 shortcut를 추가한 것이다. \n",
    "이러한 ResNet blocks 쌓음으로써 아주 깊은 신경망을 학습할 수 있다.\n",
    "\n",
    "shortcut이 있는 ResNet block은 항등함수(identity function)를 학습하기 아주 쉬워진다 (모든 weight가 0이면 항등함수).  이는 이 ResNet block을 쌓는것으로 인한 성능 저하가 거의 없을 것임을 의미한다.  \n",
    "    \n",
    "그런 측면에서 ResNet이 항등 함수를 배우기 쉬운 것으로 인한 효과가 skip connection으로 vanishing gradients문제를 완화하는 것으로 인한 효과보다 더 크다는 보고들도 존재한다.\n",
    "\n",
    "ResNet에는 input과 output의 차원이 같은지 다른지에 따라 \"identity block\", \"convolutional block\" 이렇게 크게 두가지 종류의 block이 존재한다. 각각을 구현해보자."
   ]
  },
  {
   "cell_type": "markdown",
   "metadata": {},
   "source": [
    "### The Identity Block\n",
    "\n",
    "identity block은 ResNet의 기본 블럭으로, 입력 activation(예 $a^{[l]}$)와 출력 activation (예 $a^{[l+2]}$)이 같은 차원일때 사용된다.\n",
    "\n",
    "<center><img src=\"resources/idblock2_kiank.png\" style=\"width:650px;height:150px;\"></center>\n",
    "<caption><center> <u> <b>Figure</b> </u> : <b>2개의 레이어를 건너뛰는 Identity block.</b> </center></caption>\n",
    "\n",
    "학습 속도를 향상시키기 위한 BatchNorm 레이어가 포함되어 있다.\n",
    "\n",
    "이 블럭은 ResNet18, ResNet34에서 사용되며,\n",
    "\n",
    "ResNet50부터는 이보다 더 효과적인 3개의 hidden layer를 건너뛰는 identity block을 사용한다\n",
    "\n",
    "<center><img src=\"resources/idblock3_kiank.png\" style=\"width:650px;height:150px;\"></center>\n",
    "    <caption><center> <u> <b>Figure</b> </u>  : <b>3개의 레이어를 건너뛰는 Identity block.</b> </center></caption>\n",
    "\n",
    "좀더 구체적으로는 아래 그림의 우측과 같이 Bottleneck block이라고도 불리는 구조를 사용하며 1x1 conv를 통해 필터 수를 줄여 3x3 conv를 수행하고 다시 늘림으로써 layer의 수는 더 많아졌지만 computation은 줄어들어 더 효율적이며 non-linearity도 많아졌다.\n",
    "\n",
    "<center><img src=\"resources/Basic Block_1.png\" style=\"width:264px;\">  <img src=\"resources/Bottleneck Block_2.png\" style=\"width:300px;\"></center>"
   ]
  },
  {
   "cell_type": "markdown",
   "metadata": {},
   "source": [
    "<mark>과제</mark> Identity block을 구현하라\n",
    "\n",
    "1. main path의 첫번째 layer\n",
    "- 첫번째 Conv2d는 ``intermediate_channels``개의 1x1 필터와 stride = 1, \"valid\" padding으로 이루어져 있다. BatchNorm을 수행할 것이므로 bias = False이다.\n",
    "- BatchNorm은 'channels'축으로 데이터를 normalize한다.\n",
    "- ReLU activation function을 적용한다 (hyperparameter는 없음)\n",
    "\n",
    "2. main path의 두번쨰 layer\n",
    "- 두번째 Conv2d는 ``intermediate_channels``개의 3x3 필터와 stride = 1, \"same\" padding으로 이루어져 있다. (conv후 이미지 크기가 같음). bias = False이다.\n",
    "- BatchNorm\n",
    "- ReLu\n",
    "\n",
    "3. main path의 세번째 layer\n",
    "- 세번째 Conv2d는 ``intermediate_channels`` x ``expansion``개의 1x1 필터와 stride = 1, \"valid\" padding으로 이루어져 있다. bias = False이다.\n",
    "- BatchNorm\n",
    "- ReLU activation은 **없다**\n",
    "\n",
    "4. Shortcut path\n",
    "- Conv의 결과와 입력값이 더해진다\n",
    "- 그 후 ReLU activation을 취한다.\n",
    "\n",
    "아래 documentation을 참고하여 구현하라.\n",
    "- [Conv2D](https://pytorch.org/docs/stable/generated/torch.nn.Conv2d.html)\n",
    "- [BatchNorm2d](https://pytorch.org/docs/stable/generated/torch.nn.BatchNorm2d.html) : 만약 모델이 eval모드일 경우 weight가 업데이트 되지 않는다. \n",
    "- [ReLu](https://pytorch.org/docs/stable/generated/torch.nn.ReLU.html)\n"
   ]
  },
  {
   "cell_type": "code",
   "execution_count": 8,
   "metadata": {},
   "outputs": [],
   "source": [
    "class IdentityBlock(nn.Module):\n",
    "    expansion = 4\n",
    "\n",
    "    def __init__(self, in_channels, intermediate_channels):\n",
    "        super().__init__()\n",
    "\n",
    "        ##### YOUR CODE START #####\n",
    "        # main path의 첫 번째 layer\n",
    "        self.conv1 = nn.Conv2d(in_channels, intermediate_channels, kernel_size=1, stride=1, padding='valid', bias=False)\n",
    "        self.bn1 = nn.BatchNorm2d(intermediate_channels)\n",
    "        self.relu = nn.ReLU()\n",
    "\n",
    "        # main path의 두 번째 layer\n",
    "        self.conv2 = nn.Conv2d(intermediate_channels, intermediate_channels, kernel_size=3, stride=1, padding=1, bias=False)  # same padding\n",
    "        self.bn2 = nn.BatchNorm2d(intermediate_channels)\n",
    "\n",
    "        # main path의 세 번째 layer\n",
    "        self.conv3 = nn.Conv2d(intermediate_channels, intermediate_channels * self.expansion, kernel_size=1, stride=1, padding='valid', bias=False)\n",
    "        self.bn3 = nn.BatchNorm2d(intermediate_channels * self.expansion)\n",
    "        ##### YOUR CODE END #####\n",
    "\n",
    "    def forward(self, x):\n",
    "        ##### YOUR CODE START #####\n",
    "        identity = x  # 입력을 저장해 둠\n",
    "\n",
    "        # main path\n",
    "        out = self.conv1(x)\n",
    "        out = self.bn1(out)\n",
    "        out = self.relu(out)\n",
    "\n",
    "        out = self.conv2(out)\n",
    "        out = self.bn2(out)\n",
    "        out = self.relu(out)\n",
    "\n",
    "        out = self.conv3(out)\n",
    "        out = self.bn3(out)\n",
    "\n",
    "        # shortcut path: 입력값과 main path의 결과를 더함\n",
    "        out += identity\n",
    "        out = self.relu(out)\n",
    "        ##### YOUR CODE END #####\n",
    "        \n",
    "        return out"
   ]
  },
  {
   "cell_type": "markdown",
   "metadata": {},
   "source": [
    "### The Convolutional Block\n",
    "\n",
    "ResNet \"convolutional block\"은 두번쨰 형태의 블럭으로 input과 output차원이 맞지 않을때 사용할 수 있다. indentity block과의 차이는 shortcut path에 Conv2D레이어가 존재한다는 것이다\n",
    "\n",
    "<center><img src=\"resources/convblock_kiank.png\" style=\"width:650px;height:150px;\"></center>\n",
    "<caption><center> <b>Convolutional block</b> </center></caption>\n",
    "\n",
    "* shortcut path의 Conv2D레이어는 입력 $x$를 다른 차원으로 매핑하여 main path의 출력값과 일치시키는데 사용된다.\n",
    "* 예를들어 공간 차원의 height와 width를 1/2로 줄이려면 1x1 convolution을 stride = 2로 수행한다. \n",
    "* 이 Conv2D 레이어는 non-linear activation 함수를 적용하지 않는다. 주된 목적이 입력 차원을 줄이는 선형 함수를 학습하는 것이기 때문이다.\n",
    "\n",
    "\n",
    "<mark>과제</mark> Convolution Block을 구현하라\n",
    "\n",
    "1. main path의 첫번째 레이어\n",
    "- 첫번째 Conv2d는 `intermediate_channels`개의 1x1 필터와 stride = 1, \"valid\" padding, bias = False이다.\n",
    "- BatchNorm\n",
    "- ReLU activation\n",
    "\n",
    "2. main path의 두번째 레이어\n",
    "- 두번째 Conv2d는 `intermediate_channels`개의 3x3필터와 stride = stride, padding = 1, bias = False이다.\n",
    "- BatchNorm\n",
    "- ReLU activation\n",
    "\n",
    "3. main path의 세번째 레이어\n",
    "- 세번째 Conv2d는 ``intermediate_channels`` x ``expansion``개의 1x1 필터와 stride = 1, \"valid\" padding, bias = False이다.\n",
    "- BatchNorm\n",
    "- ReLU activation\n",
    "- **No** ReLU activation \n",
    "\n",
    "4. Shortcut path\n",
    "- shortcut path의 Conv2d는 ``intermediate_channels`` x ``expansion``개의 1x1 필터와 stride = stride, \"valid\" padding, bias = False이다.\n",
    "- BatchNorm\n",
    "\n",
    "5. Final step: \n",
    "- shortcut과 main path의 값을 더한다\n",
    "- ReLU activation function"
   ]
  },
  {
   "cell_type": "code",
   "execution_count": 9,
   "metadata": {},
   "outputs": [],
   "source": [
    "class ConvBlock(nn.Module):\n",
    "    expansion = 4\n",
    "\n",
    "    def __init__(self, in_channels, intermediate_channels, stride):\n",
    "        super().__init__()\n",
    "\n",
    "        ##### YOUR CODE START #####\n",
    "        # main path의 첫 번째 layer\n",
    "        self.conv1 = nn.Conv2d(in_channels, intermediate_channels, kernel_size=1, stride=1, padding='valid', bias=False)\n",
    "        self.bn1 = nn.BatchNorm2d(intermediate_channels)\n",
    "        self.relu = nn.ReLU()\n",
    "\n",
    "        # main path의 두 번째 layer\n",
    "        self.conv2 = nn.Conv2d(intermediate_channels, intermediate_channels, kernel_size=3, stride=stride, padding=1, bias=False)\n",
    "        self.bn2 = nn.BatchNorm2d(intermediate_channels)\n",
    "\n",
    "        # main path의 세 번째 layer\n",
    "        self.conv3 = nn.Conv2d(intermediate_channels, intermediate_channels * self.expansion, kernel_size=1, stride=1, padding='valid', bias=False)\n",
    "        self.bn3 = nn.BatchNorm2d(intermediate_channels * self.expansion)\n",
    "\n",
    "        # shortcut path\n",
    "        self.shortcut = nn.Conv2d(in_channels, intermediate_channels * self.expansion, kernel_size=1, stride=stride, padding='valid', bias=False)\n",
    "        self.bn_shortcut = nn.BatchNorm2d(intermediate_channels * self.expansion)\n",
    "        ##### YOUR CODE END #####\n",
    "\n",
    "    def forward(self, x):\n",
    "        ##### YOUR CODE START #####\n",
    "        identity = x  # 입력 저장\n",
    "\n",
    "        # main path\n",
    "        out = self.conv1(x)\n",
    "        out = self.bn1(out)\n",
    "        out = self.relu(out)\n",
    "\n",
    "        out = self.conv2(out)\n",
    "        out = self.bn2(out)\n",
    "        out = self.relu(out)\n",
    "\n",
    "        out = self.conv3(out)\n",
    "        out = self.bn3(out)\n",
    "\n",
    "        # shortcut path\n",
    "        shortcut = self.shortcut(identity)\n",
    "        shortcut = self.bn_shortcut(shortcut)\n",
    "\n",
    "        # main path와 shortcut path 더하기\n",
    "        out += shortcut\n",
    "        out = self.relu(out)\n",
    "        ##### YOUR CODE END #####\n",
    "\n",
    "        return out"
   ]
  },
  {
   "cell_type": "markdown",
   "metadata": {},
   "source": [
    "## Building Your ResNet Model (50 layers)\n",
    "\n",
    "이제 ResNet50을 쌓기위한 블럭이 모두 완성되었다. 아래 그림은 ResNet구조를 나타내며, \"ID BLOCK\"은 Identity block을, \"ID BLOCK x3\"은 identity block을 3개 쌓는것을 의미한다.\n",
    "\n",
    "<center><img src=\"resources/resnet_kiank.png\" style=\"width:850px;height:150px;\"></center>\n",
    "<caption><center> <b>ResNet-50 model</b> </center></caption>\n",
    "\n",
    "<mark>과제</mark> 50개의 레이어가 있는 ResNet50 모델을 구현하라.\n",
    "ResNet-50 모델은 아래와 같이 이루어져 있다.\n",
    "- Stage 1 (Stem):\n",
    "    - 64개의 7x7 필터를 가지고 stride = 2, padding = 3인 Conv2D레이어 (bias=False)\n",
    "    - BatchNorm\n",
    "    - ReLU activation\n",
    "    - stride = 2, kernel_size = 3, padding = 1인 MaxPool2d\n",
    "- Stage 2 (3 layer):\n",
    "    - intermediate_channels = 64, expansion = 4, stride = 1인 convolutional block \n",
    "    - intermediate_channels = 64, expansion = 4인 2개의 identity block\n",
    "- Stage 3 (4 layer):\n",
    "    - intermediate_channels = 128, expansion = 4, stride = 2인 convolutional block \n",
    "    - intermediate_channels = 128, expansion = 4인 3개의 identity block\n",
    "- Stage 4 (6 layer):\n",
    "    - intermediate_channels = 256, expansion = 4, stride = 2인 convolutional block \n",
    "    - intermediate_channels = 256, expansion = 4인 5개의 identity block\n",
    "- Stage 5 (3 layer):\n",
    "    - intermediate_channels = 512, expansion = 4, stride = 2인 convolutional block \n",
    "    - intermediate_channels = 512, expansion = 4인 2개의 identity block\n",
    "- AdaptiveAvgPool2d를 이용한 2D Average Pooling (output = 1x1)\n",
    "- Flatten layer\n",
    "- Linear (Fully Connected) 레이어 (out_features = num_classes)\n",
    "\n",
    "아래 문서를 참조할것\n",
    "- [Sequential](https://pytorch.org/docs/stable/generated/torch.nn.Sequential.html)\n",
    "- [MaxPool2d](https://pytorch.org/docs/stable/generated/torch.nn.MaxPool2d.html)\n",
    "- [flatten](https://pytorch.org/docs/stable/generated/torch.flatten.html)\n",
    "- [AdaptiveAvgPool2d](https://pytorch.org/docs/stable/generated/torch.nn.AdaptiveAvgPool2d.html)"
   ]
  },
  {
   "cell_type": "code",
   "execution_count": 10,
   "metadata": {},
   "outputs": [],
   "source": [
    "class ResNet50(nn.Module):\n",
    "    def __init__(self, num_classes):\n",
    "        super(ResNet50, self).__init__()\n",
    "\n",
    "        ##### YOUR CODE START #####\n",
    "        # Stage 1 (Stem)\n",
    "        self.conv1 = nn.Conv2d(in_channels=3, out_channels=64, kernel_size=7, stride=2, padding=3, bias=False)\n",
    "        self.bn1 = nn.BatchNorm2d(64)\n",
    "        self.relu = nn.ReLU()\n",
    "        self.maxpool = nn.MaxPool2d(kernel_size=3, stride=2, padding=1)\n",
    "\n",
    "        # Stage 2\n",
    "        self.stage2 = nn.Sequential(\n",
    "            ConvBlock(64, 64, stride=1),  # 첫 번째 convolutional block\n",
    "            IdentityBlock(256, 64),       # 두 번째 identity block\n",
    "            IdentityBlock(256, 64)        # 세 번째 identity block\n",
    "        )\n",
    "\n",
    "        # Stage 3\n",
    "        self.stage3 = nn.Sequential(\n",
    "            ConvBlock(256, 128, stride=2),  # 첫 번째 convolutional block\n",
    "            IdentityBlock(512, 128),        # 두 번째 identity block\n",
    "            IdentityBlock(512, 128),        # 세 번째 identity block\n",
    "            IdentityBlock(512, 128)         # 네 번째 identity block\n",
    "        )\n",
    "\n",
    "        # Stage 4\n",
    "        self.stage4 = nn.Sequential(\n",
    "            ConvBlock(512, 256, stride=2),  # 첫 번째 convolutional block\n",
    "            IdentityBlock(1024, 256),       # 두 번째 identity block\n",
    "            IdentityBlock(1024, 256),       # 세 번째 identity block\n",
    "            IdentityBlock(1024, 256),       # 네 번째 identity block\n",
    "            IdentityBlock(1024, 256),       # 다섯 번째 identity block\n",
    "            IdentityBlock(1024, 256)        # 여섯 번째 identity block\n",
    "        )\n",
    "\n",
    "        # Stage 5\n",
    "        self.stage5 = nn.Sequential(\n",
    "            ConvBlock(1024, 512, stride=2),  # 첫 번째 convolutional block\n",
    "            IdentityBlock(2048, 512),        # 두 번째 identity block\n",
    "            IdentityBlock(2048, 512)         # 세 번째 identity block\n",
    "        )\n",
    "\n",
    "        # Average Pooling\n",
    "        self.avgpool = nn.AdaptiveAvgPool2d((1, 1))\n",
    "\n",
    "        # Fully Connected layer\n",
    "        self.fc = nn.Linear(2048, num_classes)\n",
    "        ##### YOUR CODE END #####\n",
    "\n",
    "\n",
    "\n",
    "    def forward(self, x):\n",
    "        ##### YOUR CODE START #####\n",
    "        # Stage 1\n",
    "        x = self.conv1(x)\n",
    "        x = self.bn1(x)\n",
    "        x = self.relu(x)\n",
    "        x = self.maxpool(x)\n",
    "\n",
    "        # Stage 2\n",
    "        x = self.stage2(x)\n",
    "\n",
    "        # Stage 3\n",
    "        x = self.stage3(x)\n",
    "\n",
    "        # Stage 4\n",
    "        x = self.stage4(x)\n",
    "\n",
    "        # Stage 5\n",
    "        x = self.stage5(x)\n",
    "\n",
    "        # Average Pooling\n",
    "        x = self.avgpool(x)\n",
    "\n",
    "        # Flatten and Fully Connected layer\n",
    "        x = torch.flatten(x, 1)\n",
    "        x = self.fc(x)\n",
    "        ##### YOUR CODE END #####\n",
    "\n",
    "        return x"
   ]
  },
  {
   "cell_type": "code",
   "execution_count": 11,
   "metadata": {
    "tags": [
     "execute_cell"
    ]
   },
   "outputs": [
    {
     "name": "stdout",
     "output_type": "stream",
     "text": [
      "# of parameters of your ResNet50 model: 25557032\n"
     ]
    }
   ],
   "source": [
    "model = ResNet50(1000)\n",
    "print(f\"# of parameters of your ResNet50 model: {sum(p.numel() for p in model.parameters())}\")"
   ]
  },
  {
   "cell_type": "markdown",
   "metadata": {},
   "source": [
    "직접 구현한 resnet과 PyTorch에 미리 구현되어있는 resnet의 파라미터 수가 같음을 확인할 수 있다."
   ]
  },
  {
   "cell_type": "code",
   "execution_count": 12,
   "metadata": {
    "tags": [
     "execute_cell"
    ]
   },
   "outputs": [
    {
     "name": "stdout",
     "output_type": "stream",
     "text": [
      "# of parameters of pre-implemented model: 25557032\n"
     ]
    }
   ],
   "source": [
    "from torchvision import models\n",
    "torch_model = models.resnet50()\n",
    "print(f\"# of parameters of pre-implemented model: {sum(p.numel() for p in torch_model.parameters())}\")"
   ]
  },
  {
   "cell_type": "markdown",
   "metadata": {},
   "source": [
    "이제 resnet을 이용하여 CIFAR-10 데이터셋을 학습해보자.\n",
    "\n",
    "CIFAR-10은 32x32x3의 해상도의 사물 데이터를 모아 놓은 데이터 세트로, 비행기(airplane), 자동차(automobile), 새(bird), 고양이(cat) 등 총 10개의 클래스로 구성된다.\n",
    "\n",
    "학습 데이터는 50,000개이고, 테스트 데이터는 10,000개이다."
   ]
  },
  {
   "cell_type": "code",
   "execution_count": 13,
   "metadata": {},
   "outputs": [],
   "source": [
    "def load_cifar10_datasets(data_root_dir):\n",
    "    train_transforms = transforms.Compose([\n",
    "        transforms.ToTensor(),\n",
    "        transforms.Normalize((0.5, 0.5, 0.5), (0.5, 0.5, 0.5)) \n",
    "    ])\n",
    "\n",
    "    test_transforms = transforms.Compose([\n",
    "        transforms.ToTensor(),\n",
    "        transforms.Normalize((0.5, 0.5, 0.5), (0.5, 0.5, 0.5)) \n",
    "    ])\n",
    "\n",
    "    # Load CIFAR-10 dataset\n",
    "    train_dataset = datasets.CIFAR10(root=data_root_dir, train=True, download=True, transform=train_transforms)\n",
    "    test_dataset = datasets.CIFAR10(root=data_root_dir, train=False, download=True, transform=test_transforms)\n",
    "\n",
    "    return train_dataset, test_dataset"
   ]
  },
  {
   "cell_type": "code",
   "execution_count": 14,
   "metadata": {},
   "outputs": [],
   "source": [
    "import matplotlib.pyplot as plt\n",
    "\n",
    "def visualize_few_samples(dataset, cols=8, rows=5):\n",
    "    label_names = ['airplane', 'automobile', 'bird', 'cat', 'deer',\n",
    "                   'dog', 'frog', 'horse', 'ship', 'truck']  # CIFAR10 class names\n",
    "\n",
    "    figure, axes = plt.subplots(rows, cols, figsize=(cols * 2, rows * 2)) \n",
    "    axes = axes.flatten()\n",
    "\n",
    "    for i in range(cols * rows):\n",
    "        sample_idx = torch.randint(len(dataset), size=(1,)).item()\n",
    "        img, label = dataset[sample_idx]\n",
    "        img = img.permute(1, 2, 0)  # CHW to HWC\n",
    "        img = img.numpy()  # Convert to numpy array\n",
    "        img = (img * 0.5 + 0.5)  # Unnormalize to [0,1] for display\n",
    "        axes[i].imshow(img)\n",
    "        axes[i].set_title(label_names[label])\n",
    "        axes[i].axis('off')\n",
    "    \n",
    "    plt.tight_layout()\n",
    "    plt.show()"
   ]
  },
  {
   "cell_type": "code",
   "execution_count": 15,
   "metadata": {
    "scrolled": true,
    "tags": [
     "execute_cell"
    ]
   },
   "outputs": [
    {
     "name": "stdout",
     "output_type": "stream",
     "text": [
      "Files already downloaded and verified\n",
      "Files already downloaded and verified\n"
     ]
    },
    {
     "data": {
      "image/png": "[encoded data removed]",
      "text/plain": [
       "<Figure size 1000x800 with 20 Axes>"
      ]
     },
     "metadata": {},
     "output_type": "display_data"
    }
   ],
   "source": [
    "train_dataset, test_dataset = load_cifar10_datasets(\"/datasets\")\n",
    "visualize_few_samples(train_dataset, cols = 5, rows = 4)"
   ]
  },
  {
   "cell_type": "code",
   "execution_count": 16,
   "metadata": {},
   "outputs": [],
   "source": [
    "class SimpleCNN(nn.Module):\n",
    "    def __init__(self):\n",
    "        super().__init__()\n",
    "        self.conv1 = nn.Conv2d(3, 8, 5)\n",
    "        self.pool = nn.MaxPool2d(2, 2)\n",
    "        self.conv2 = nn.Conv2d(8, 16, 5)\n",
    "        self.fc1 = nn.Linear(16*5*5, 128) \n",
    "        self.fc2 = nn.Linear(128, 64)\n",
    "        self.fc3 = nn.Linear(64, 10)\n",
    "\n",
    "    def forward(self, x):\n",
    "        x = self.pool(F.relu(self.conv1(x))) # gives (8, 14, 14)\n",
    "        x = self.pool(F.relu(self.conv2(x))) # gives (16, 5, 5)\n",
    "        x = torch.flatten(x, 1) # flatten all dimensions except batch\n",
    "        x = F.relu(self.fc1(x))\n",
    "        x = F.relu(self.fc2(x))\n",
    "        x = self.fc3(x)\n",
    "\n",
    "        return x"
   ]
  },
  {
   "cell_type": "markdown",
   "metadata": {},
   "source": [
    "<mark>과제</mark> ResNet50으로 CIFAR10 데이터셋을 학습하고 지난시간에 구현한 SimpleCNN 모델과 성능을 비교하라"
   ]
  },
  {
   "cell_type": "code",
   "execution_count": 21,
   "metadata": {},
   "outputs": [],
   "source": [
    "def get_model(model_name, num_classes, config):\n",
    "    if model_name == \"resnet50\":\n",
    "        model = ResNet50(num_classes)\n",
    "    elif model_name == \"SimpleCNN\":\n",
    "        model = SimpleCNN()\n",
    "    else:\n",
    "        raise Exception(\"Model not supported: {}\".format(model_name))\n",
    "    print(f\"Using model {model_name} with {sum(p.numel() for p in model.parameters())} parameters\")\n",
    "    return model"
   ]
  },
  {
   "cell_type": "code",
   "execution_count": 24,
   "metadata": {},
   "outputs": [],
   "source": [
    "# CIFAR10 데이터셋 로딩 함수\n",
    "def load_cifar10_datasets(data_root_dir):\n",
    "    transform = transforms.Compose([transforms.ToTensor(), transforms.Normalize((0.5, 0.5, 0.5), (0.5, 0.5, 0.5))])\n",
    "    train_dataset = datasets.CIFAR10(root=data_root_dir, train=True, download=True, transform=transform)\n",
    "    test_dataset = datasets.CIFAR10(root=data_root_dir, train=False, download=True, transform=transform)\n",
    "    return train_dataset, test_dataset\n",
    "\n",
    "# DataLoader 생성 함수\n",
    "def create_dataloaders(train_dataset, test_dataset, device, batch_size, num_worker):\n",
    "    kwargs = {'pin_memory': True} if device.startswith('cuda') else {}\n",
    "    train_loader = DataLoader(train_dataset, batch_size=batch_size, shuffle=True, num_workers=num_worker, **kwargs)\n",
    "    test_loader = DataLoader(test_dataset, batch_size=batch_size, shuffle=False, num_workers=num_worker, **kwargs)\n",
    "    return train_loader, test_loader\n",
    "\n",
    "# 학습 및 평가 루프 정의\n",
    "def train_loop(model, device, dataloader, criterion, optimizer, epoch):\n",
    "    model.train()\n",
    "    running_loss = 0.0\n",
    "    correct_train = 0\n",
    "    total_train = 0\n",
    "    \n",
    "    for inputs, labels in dataloader:\n",
    "        inputs, labels = inputs.to(device), labels.to(device)\n",
    "        optimizer.zero_grad()\n",
    "        outputs = model(inputs)\n",
    "        loss = criterion(outputs, labels)\n",
    "        loss.backward()\n",
    "        optimizer.step()\n",
    "\n",
    "        running_loss += loss.item()\n",
    "\n",
    "        # Train Accuracy 계산\n",
    "        _, predicted = torch.max(outputs, 1)\n",
    "        total_train += labels.size(0)\n",
    "        correct_train += (predicted == labels).sum().item()\n",
    "\n",
    "    train_loss = running_loss / len(dataloader)\n",
    "    train_accuracy = 100 * correct_train / total_train\n",
    "\n",
    "    return train_loss, train_accuracy\n",
    "\n",
    "def evaluation_loop(model, device, dataloader, criterion):\n",
    "    model.eval()\n",
    "    running_val_loss = 0.0\n",
    "    correct = 0\n",
    "    total = 0\n",
    "    with torch.no_grad():\n",
    "        for inputs, labels in dataloader:\n",
    "            inputs, labels = inputs.to(device), labels.to(device)\n",
    "            outputs = model(inputs)\n",
    "            loss = criterion(outputs, labels)\n",
    "            running_val_loss += loss.item()\n",
    "\n",
    "            _, predicted = torch.max(outputs, 1)\n",
    "            total += labels.size(0)\n",
    "            correct += (predicted == labels).sum().item()\n",
    "\n",
    "    val_loss = running_val_loss / len(dataloader)\n",
    "    val_accuracy = 100 * correct / total\n",
    "\n",
    "    return val_loss, val_accuracy\n",
    "\n",
    "# 학습 메인 함수\n",
    "def train_main(config):\n",
    "    wandb.init(project=config[\"wandb_project_name\"], config=config)\n",
    "    device = \"cuda:0\" if torch.cuda.is_available() else \"cpu\"\n",
    "    print(f\"Using {device} device\")\n",
    "\n",
    "    train_dataset, test_dataset = load_cifar10_datasets(config['data_root_dir'])\n",
    "    num_classes = len(train_dataset.classes)\n",
    "    train_dataloader, test_dataloader = create_dataloaders(train_dataset, test_dataset, device, config['batch_size'], config.get('num_worker', 4))\n",
    "\n",
    "    model = get_model(config[\"model_name\"], num_classes, config).to(device)\n",
    "    criterion = nn.CrossEntropyLoss().to(device)\n",
    "    optimizer = torch.optim.SGD(model.parameters(), lr=config['learning_rate'])\n",
    "\n",
    "    for epoch in range(config['num_epochs']):\n",
    "        train_loss, train_acc = train_loop(model, device, train_dataloader, criterion, optimizer, epoch)\n",
    "        val_loss, val_acc = evaluation_loop(model, device, test_dataloader, criterion)\n",
    "\n",
    "        # wandb 로그 기록\n",
    "        wandb.log({\n",
    "            \"Epoch\": epoch + 1,\n",
    "            \"Train Accuracy\": train_acc,\n",
    "            \"Train Loss\": train_loss,\n",
    "            \"Validation Accuracy\": val_acc,\n",
    "            \"Validation Loss\": val_loss\n",
    "        })\n",
    "\n",
    "        print(f'Epoch {epoch + 1}, Train Accuracy: {train_acc:.2f}%, Validation Accuracy: {val_acc:.2f}%')\n",
    "\n",
    "    # wandb 종료\n",
    "    wandb.finish()"
   ]
  },
  {
   "cell_type": "code",
   "execution_count": 25,
   "metadata": {
    "tags": [
     "execute_cell"
    ]
   },
   "outputs": [
    {
     "data": {
      "text/html": [
       "wandb version 0.18.3 is available!  To upgrade, please run:\n",
       " $ pip install wandb --upgrade"
      ],
      "text/plain": [
       "<IPython.core.display.HTML object>"
      ]
     },
     "metadata": {},
     "output_type": "display_data"
    },
    {
     "data": {
      "text/html": [
       "Tracking run with wandb version 0.17.7"
      ],
      "text/plain": [
       "<IPython.core.display.HTML object>"
      ]
     },
     "metadata": {},
     "output_type": "display_data"
    },
    {
     "data": {
      "text/html": [
       "Run data is saved locally in <code>/home/jovyan/Deep_Learning_and_its_Application_2/lab_04/wandb/run-20241009_123350-79nklgem</code>"
      ],
      "text/plain": [
       "<IPython.core.display.HTML object>"
      ]
     },
     "metadata": {},
     "output_type": "display_data"
    },
    {
     "data": {
      "text/html": [
       "Syncing run <strong><a href='https://wandb.ai/unknownlimitless0301-university-of-suwon6591/CIFAR10_train/runs/79nklgem' target=\"_blank\">floral-fog-5</a></strong> to <a href='https://wandb.ai/unknownlimitless0301-university-of-suwon6591/CIFAR10_train' target=\"_blank\">Weights & Biases</a> (<a href='https://wandb.me/run' target=\"_blank\">docs</a>)<br/>"
      ],
      "text/plain": [
       "<IPython.core.display.HTML object>"
      ]
     },
     "metadata": {},
     "output_type": "display_data"
    },
    {
     "data": {
      "text/html": [
       " View project at <a href='https://wandb.ai/unknownlimitless0301-university-of-suwon6591/CIFAR10_train' target=\"_blank\">https://wandb.ai/unknownlimitless0301-university-of-suwon6591/CIFAR10_train</a>"
      ],
      "text/plain": [
       "<IPython.core.display.HTML object>"
      ]
     },
     "metadata": {},
     "output_type": "display_data"
    },
    {
     "data": {
      "text/html": [
       " View run at <a href='https://wandb.ai/unknownlimitless0301-university-of-suwon6591/CIFAR10_train/runs/79nklgem' target=\"_blank\">https://wandb.ai/unknownlimitless0301-university-of-suwon6591/CIFAR10_train/runs/79nklgem</a>"
      ],
      "text/plain": [
       "<IPython.core.display.HTML object>"
      ]
     },
     "metadata": {},
     "output_type": "display_data"
    },
    {
     "name": "stdout",
     "output_type": "stream",
     "text": [
      "Using cuda:0 device\n",
      "Files already downloaded and verified\n",
      "Files already downloaded and verified\n",
      "Using model resnet50 with 23528522 parameters\n",
      "Epoch 1, Train Accuracy: 24.58%, Validation Accuracy: 32.72%\n",
      "Epoch 2, Train Accuracy: 37.43%, Validation Accuracy: 40.80%\n",
      "Epoch 3, Train Accuracy: 43.44%, Validation Accuracy: 44.95%\n",
      "Epoch 4, Train Accuracy: 47.91%, Validation Accuracy: 45.98%\n",
      "Epoch 5, Train Accuracy: 51.61%, Validation Accuracy: 49.61%\n",
      "Epoch 6, Train Accuracy: 54.92%, Validation Accuracy: 49.31%\n",
      "Epoch 7, Train Accuracy: 57.90%, Validation Accuracy: 50.51%\n",
      "Epoch 8, Train Accuracy: 60.88%, Validation Accuracy: 52.44%\n",
      "Epoch 9, Train Accuracy: 63.52%, Validation Accuracy: 52.58%\n",
      "Epoch 10, Train Accuracy: 66.53%, Validation Accuracy: 51.27%\n",
      "Epoch 11, Train Accuracy: 68.94%, Validation Accuracy: 53.15%\n",
      "Epoch 12, Train Accuracy: 71.36%, Validation Accuracy: 53.19%\n",
      "Epoch 13, Train Accuracy: 74.18%, Validation Accuracy: 51.32%\n",
      "Epoch 14, Train Accuracy: 76.32%, Validation Accuracy: 54.11%\n",
      "Epoch 15, Train Accuracy: 78.51%, Validation Accuracy: 52.09%\n",
      "Epoch 16, Train Accuracy: 80.22%, Validation Accuracy: 53.25%\n",
      "Epoch 17, Train Accuracy: 82.30%, Validation Accuracy: 53.95%\n",
      "Epoch 18, Train Accuracy: 84.18%, Validation Accuracy: 52.94%\n",
      "Epoch 19, Train Accuracy: 85.92%, Validation Accuracy: 54.08%\n",
      "Epoch 20, Train Accuracy: 87.26%, Validation Accuracy: 53.67%\n",
      "Epoch 21, Train Accuracy: 88.49%, Validation Accuracy: 55.11%\n",
      "Epoch 22, Train Accuracy: 90.27%, Validation Accuracy: 53.14%\n",
      "Epoch 23, Train Accuracy: 90.79%, Validation Accuracy: 55.92%\n",
      "Epoch 24, Train Accuracy: 91.95%, Validation Accuracy: 55.81%\n",
      "Epoch 25, Train Accuracy: 92.73%, Validation Accuracy: 53.38%\n",
      "Epoch 26, Train Accuracy: 92.79%, Validation Accuracy: 55.74%\n",
      "Epoch 27, Train Accuracy: 93.79%, Validation Accuracy: 53.45%\n",
      "Epoch 28, Train Accuracy: 93.61%, Validation Accuracy: 53.81%\n",
      "Epoch 29, Train Accuracy: 94.29%, Validation Accuracy: 55.29%\n",
      "Epoch 30, Train Accuracy: 94.92%, Validation Accuracy: 56.44%\n",
      "Epoch 31, Train Accuracy: 95.53%, Validation Accuracy: 54.69%\n",
      "Epoch 32, Train Accuracy: 95.63%, Validation Accuracy: 56.22%\n",
      "Epoch 33, Train Accuracy: 96.04%, Validation Accuracy: 56.82%\n",
      "Epoch 34, Train Accuracy: 96.57%, Validation Accuracy: 55.98%\n",
      "Epoch 35, Train Accuracy: 96.28%, Validation Accuracy: 53.74%\n",
      "Epoch 36, Train Accuracy: 96.52%, Validation Accuracy: 55.43%\n",
      "Epoch 37, Train Accuracy: 96.66%, Validation Accuracy: 52.35%\n",
      "Epoch 38, Train Accuracy: 96.61%, Validation Accuracy: 54.61%\n",
      "Epoch 39, Train Accuracy: 97.03%, Validation Accuracy: 58.14%\n",
      "Epoch 40, Train Accuracy: 97.50%, Validation Accuracy: 56.09%\n",
      "Epoch 41, Train Accuracy: 97.45%, Validation Accuracy: 56.35%\n",
      "Epoch 42, Train Accuracy: 97.59%, Validation Accuracy: 52.61%\n",
      "Epoch 43, Train Accuracy: 97.88%, Validation Accuracy: 55.71%\n",
      "Epoch 44, Train Accuracy: 97.80%, Validation Accuracy: 57.68%\n",
      "Epoch 45, Train Accuracy: 97.93%, Validation Accuracy: 57.16%\n",
      "Epoch 46, Train Accuracy: 97.88%, Validation Accuracy: 56.94%\n",
      "Epoch 47, Train Accuracy: 97.94%, Validation Accuracy: 58.61%\n",
      "Epoch 48, Train Accuracy: 98.35%, Validation Accuracy: 55.21%\n",
      "Epoch 49, Train Accuracy: 98.16%, Validation Accuracy: 57.99%\n",
      "Epoch 50, Train Accuracy: 98.57%, Validation Accuracy: 58.09%\n"
     ]
    },
    {
     "data": {
      "application/vnd.jupyter.widget-view+json": {
       "model_id": "",
       "version_major": 2,
       "version_minor": 0
      },
      "text/plain": [
       "VBox(children=(Label(value='0.004 MB of 0.013 MB uploaded\\r'), FloatProgress(value=0.34275775294204724, max=1.…"
      ]
     },
     "metadata": {},
     "output_type": "display_data"
    },
    {
     "data": {
      "text/html": [
       "<style>\n",
       "    table.wandb td:nth-child(1) { padding: 0 10px; text-align: left ; width: auto;} td:nth-child(2) {text-align: left ; width: 100%}\n",
       "    .wandb-row { display: flex; flex-direction: row; flex-wrap: wrap; justify-content: flex-start; width: 100% }\n",
       "    .wandb-col { display: flex; flex-direction: column; flex-basis: 100%; flex: 1; padding: 10px; }\n",
       "    </style>\n",
       "<div class=\"wandb-row\"><div class=\"wandb-col\"><h3>Run history:</h3><br/><table class=\"wandb\"><tr><td>Epoch</td><td>▁▁▁▁▂▂▂▂▂▃▃▃▃▃▃▄▄▄▄▄▅▅▅▅▅▅▆▆▆▆▆▆▇▇▇▇▇███</td></tr><tr><td>Train Accuracy</td><td>▁▂▃▃▄▄▄▅▅▅▆▆▆▆▇▇▇▇▇▇▇███████████████████</td></tr><tr><td>Train Loss</td><td>█▇▆▆▅▅▅▄▄▄▃▃▃▃▂▂▂▂▂▂▂▁▁▁▁▁▁▁▁▁▁▁▁▁▁▁▁▁▁▁</td></tr><tr><td>Validation Accuracy</td><td>▁▃▄▅▅▆▆▆▇▇▆▇▇▇▆▇▇▇▇▇▇▇▇▇▇▇█▇▇▆▇█▇▆▇███▇█</td></tr><tr><td>Validation Loss</td><td>▄▃▂▂▁▁▁▁▁▁▂▂▂▂▃▃▃▄▄▄▄▅▅▅▆▅▅▅▆█▆▅▆▇▇▆▆▆▇▆</td></tr></table><br/></div><div class=\"wandb-col\"><h3>Run summary:</h3><br/><table class=\"wandb\"><tr><td>Epoch</td><td>50</td></tr><tr><td>Train Accuracy</td><td>98.572</td></tr><tr><td>Train Loss</td><td>0.04335</td></tr><tr><td>Validation Accuracy</td><td>58.09</td></tr><tr><td>Validation Loss</td><td>2.33634</td></tr></table><br/></div></div>"
      ],
      "text/plain": [
       "<IPython.core.display.HTML object>"
      ]
     },
     "metadata": {},
     "output_type": "display_data"
    },
    {
     "data": {
      "text/html": [
       " View run <strong style=\"color:#cdcd00\">floral-fog-5</strong> at: <a href='https://wandb.ai/unknownlimitless0301-university-of-suwon6591/CIFAR10_train/runs/79nklgem' target=\"_blank\">https://wandb.ai/unknownlimitless0301-university-of-suwon6591/CIFAR10_train/runs/79nklgem</a><br/> View project at: <a href='https://wandb.ai/unknownlimitless0301-university-of-suwon6591/CIFAR10_train' target=\"_blank\">https://wandb.ai/unknownlimitless0301-university-of-suwon6591/CIFAR10_train</a><br/>Synced 6 W&B file(s), 0 media file(s), 0 artifact file(s) and 0 other file(s)"
      ],
      "text/plain": [
       "<IPython.core.display.HTML object>"
      ]
     },
     "metadata": {},
     "output_type": "display_data"
    },
    {
     "data": {
      "text/html": [
       "Find logs at: <code>./wandb/run-20241009_123350-79nklgem/logs</code>"
      ],
      "text/plain": [
       "<IPython.core.display.HTML object>"
      ]
     },
     "metadata": {},
     "output_type": "display_data"
    },
    {
     "data": {
      "text/html": [
       "The new W&B backend becomes opt-out in version 0.18.0; try it out with `wandb.require(\"core\")`! See https://wandb.me/wandb-core for more information."
      ],
      "text/plain": [
       "<IPython.core.display.HTML object>"
      ]
     },
     "metadata": {},
     "output_type": "display_data"
    },
    {
     "data": {
      "application/vnd.jupyter.widget-view+json": {
       "model_id": "ce2096c280d94d11acdcc2f5a5eccf89",
       "version_major": 2,
       "version_minor": 0
      },
      "text/plain": [
       "VBox(children=(Label(value='Waiting for wandb.init()...\\r'), FloatProgress(value=0.011113111964530416, max=1.0…"
      ]
     },
     "metadata": {},
     "output_type": "display_data"
    },
    {
     "data": {
      "text/html": [
       "wandb version 0.18.3 is available!  To upgrade, please run:\n",
       " $ pip install wandb --upgrade"
      ],
      "text/plain": [
       "<IPython.core.display.HTML object>"
      ]
     },
     "metadata": {},
     "output_type": "display_data"
    },
    {
     "data": {
      "text/html": [
       "Tracking run with wandb version 0.17.7"
      ],
      "text/plain": [
       "<IPython.core.display.HTML object>"
      ]
     },
     "metadata": {},
     "output_type": "display_data"
    },
    {
     "data": {
      "text/html": [
       "Run data is saved locally in <code>/home/jovyan/Deep_Learning_and_its_Application_2/lab_04/wandb/run-20241009_123846-zi41p749</code>"
      ],
      "text/plain": [
       "<IPython.core.display.HTML object>"
      ]
     },
     "metadata": {},
     "output_type": "display_data"
    },
    {
     "data": {
      "text/html": [
       "Syncing run <strong><a href='https://wandb.ai/unknownlimitless0301-university-of-suwon6591/CIFAR10_train/runs/zi41p749' target=\"_blank\">glamorous-frog-6</a></strong> to <a href='https://wandb.ai/unknownlimitless0301-university-of-suwon6591/CIFAR10_train' target=\"_blank\">Weights & Biases</a> (<a href='https://wandb.me/run' target=\"_blank\">docs</a>)<br/>"
      ],
      "text/plain": [
       "<IPython.core.display.HTML object>"
      ]
     },
     "metadata": {},
     "output_type": "display_data"
    },
    {
     "data": {
      "text/html": [
       " View project at <a href='https://wandb.ai/unknownlimitless0301-university-of-suwon6591/CIFAR10_train' target=\"_blank\">https://wandb.ai/unknownlimitless0301-university-of-suwon6591/CIFAR10_train</a>"
      ],
      "text/plain": [
       "<IPython.core.display.HTML object>"
      ]
     },
     "metadata": {},
     "output_type": "display_data"
    },
    {
     "data": {
      "text/html": [
       " View run at <a href='https://wandb.ai/unknownlimitless0301-university-of-suwon6591/CIFAR10_train/runs/zi41p749' target=\"_blank\">https://wandb.ai/unknownlimitless0301-university-of-suwon6591/CIFAR10_train/runs/zi41p749</a>"
      ],
      "text/plain": [
       "<IPython.core.display.HTML object>"
      ]
     },
     "metadata": {},
     "output_type": "display_data"
    },
    {
     "name": "stdout",
     "output_type": "stream",
     "text": [
      "Using cuda:0 device\n",
      "Files already downloaded and verified\n",
      "Files already downloaded and verified\n",
      "Using model SimpleCNN with 64058 parameters\n",
      "Epoch 1, Train Accuracy: 10.25%, Validation Accuracy: 10.55%\n",
      "Epoch 2, Train Accuracy: 10.68%, Validation Accuracy: 10.94%\n",
      "Epoch 3, Train Accuracy: 11.16%, Validation Accuracy: 11.23%\n",
      "Epoch 4, Train Accuracy: 11.58%, Validation Accuracy: 11.72%\n",
      "Epoch 5, Train Accuracy: 11.62%, Validation Accuracy: 11.88%\n",
      "Epoch 6, Train Accuracy: 11.78%, Validation Accuracy: 11.79%\n",
      "Epoch 7, Train Accuracy: 11.86%, Validation Accuracy: 12.25%\n",
      "Epoch 8, Train Accuracy: 13.21%, Validation Accuracy: 14.46%\n",
      "Epoch 9, Train Accuracy: 14.51%, Validation Accuracy: 14.85%\n",
      "Epoch 10, Train Accuracy: 14.72%, Validation Accuracy: 15.06%\n",
      "Epoch 11, Train Accuracy: 15.37%, Validation Accuracy: 16.26%\n",
      "Epoch 12, Train Accuracy: 17.07%, Validation Accuracy: 18.27%\n",
      "Epoch 13, Train Accuracy: 19.12%, Validation Accuracy: 20.34%\n",
      "Epoch 14, Train Accuracy: 21.20%, Validation Accuracy: 22.79%\n",
      "Epoch 15, Train Accuracy: 23.55%, Validation Accuracy: 24.79%\n",
      "Epoch 16, Train Accuracy: 25.53%, Validation Accuracy: 26.62%\n",
      "Epoch 17, Train Accuracy: 27.06%, Validation Accuracy: 27.89%\n",
      "Epoch 18, Train Accuracy: 28.02%, Validation Accuracy: 29.00%\n",
      "Epoch 19, Train Accuracy: 28.99%, Validation Accuracy: 29.90%\n",
      "Epoch 20, Train Accuracy: 29.74%, Validation Accuracy: 30.32%\n",
      "Epoch 21, Train Accuracy: 30.27%, Validation Accuracy: 30.95%\n",
      "Epoch 22, Train Accuracy: 31.00%, Validation Accuracy: 31.47%\n",
      "Epoch 23, Train Accuracy: 31.66%, Validation Accuracy: 32.05%\n",
      "Epoch 24, Train Accuracy: 32.13%, Validation Accuracy: 32.84%\n",
      "Epoch 25, Train Accuracy: 32.84%, Validation Accuracy: 33.55%\n",
      "Epoch 26, Train Accuracy: 33.53%, Validation Accuracy: 33.93%\n",
      "Epoch 27, Train Accuracy: 34.13%, Validation Accuracy: 34.86%\n",
      "Epoch 28, Train Accuracy: 34.78%, Validation Accuracy: 34.41%\n",
      "Epoch 29, Train Accuracy: 35.40%, Validation Accuracy: 35.82%\n",
      "Epoch 30, Train Accuracy: 36.03%, Validation Accuracy: 36.53%\n",
      "Epoch 31, Train Accuracy: 36.52%, Validation Accuracy: 36.90%\n",
      "Epoch 32, Train Accuracy: 37.05%, Validation Accuracy: 37.72%\n",
      "Epoch 33, Train Accuracy: 37.51%, Validation Accuracy: 38.32%\n",
      "Epoch 34, Train Accuracy: 38.14%, Validation Accuracy: 38.26%\n",
      "Epoch 35, Train Accuracy: 38.72%, Validation Accuracy: 39.13%\n",
      "Epoch 36, Train Accuracy: 39.20%, Validation Accuracy: 39.58%\n",
      "Epoch 37, Train Accuracy: 39.62%, Validation Accuracy: 40.07%\n",
      "Epoch 38, Train Accuracy: 40.27%, Validation Accuracy: 39.90%\n",
      "Epoch 39, Train Accuracy: 40.92%, Validation Accuracy: 41.25%\n",
      "Epoch 40, Train Accuracy: 41.39%, Validation Accuracy: 41.22%\n",
      "Epoch 41, Train Accuracy: 41.90%, Validation Accuracy: 41.83%\n",
      "Epoch 42, Train Accuracy: 42.49%, Validation Accuracy: 42.21%\n",
      "Epoch 43, Train Accuracy: 42.77%, Validation Accuracy: 42.22%\n",
      "Epoch 44, Train Accuracy: 43.20%, Validation Accuracy: 43.27%\n",
      "Epoch 45, Train Accuracy: 43.64%, Validation Accuracy: 43.94%\n",
      "Epoch 46, Train Accuracy: 44.25%, Validation Accuracy: 44.03%\n",
      "Epoch 47, Train Accuracy: 44.69%, Validation Accuracy: 44.34%\n",
      "Epoch 48, Train Accuracy: 45.12%, Validation Accuracy: 44.96%\n",
      "Epoch 49, Train Accuracy: 45.46%, Validation Accuracy: 45.09%\n",
      "Epoch 50, Train Accuracy: 45.80%, Validation Accuracy: 44.63%\n"
     ]
    },
    {
     "data": {
      "application/vnd.jupyter.widget-view+json": {
       "model_id": "",
       "version_major": 2,
       "version_minor": 0
      },
      "text/plain": [
       "VBox(children=(Label(value='0.004 MB of 0.005 MB uploaded\\r'), FloatProgress(value=0.9496211345484333, max=1.0…"
      ]
     },
     "metadata": {},
     "output_type": "display_data"
    },
    {
     "data": {
      "text/html": [
       "<style>\n",
       "    table.wandb td:nth-child(1) { padding: 0 10px; text-align: left ; width: auto;} td:nth-child(2) {text-align: left ; width: 100%}\n",
       "    .wandb-row { display: flex; flex-direction: row; flex-wrap: wrap; justify-content: flex-start; width: 100% }\n",
       "    .wandb-col { display: flex; flex-direction: column; flex-basis: 100%; flex: 1; padding: 10px; }\n",
       "    </style>\n",
       "<div class=\"wandb-row\"><div class=\"wandb-col\"><h3>Run history:</h3><br/><table class=\"wandb\"><tr><td>Epoch</td><td>▁▁▁▁▂▂▂▂▂▃▃▃▃▃▃▄▄▄▄▄▅▅▅▅▅▅▆▆▆▆▆▆▇▇▇▇▇███</td></tr><tr><td>Train Accuracy</td><td>▁▁▁▁▁▁▂▂▂▂▃▃▄▄▄▅▅▅▅▅▆▆▆▆▆▆▆▆▇▇▇▇▇▇▇▇████</td></tr><tr><td>Train Loss</td><td>█████████▇▇▇▆▆▆▅▅▅▅▄▄▄▄▄▃▃▃▃▃▂▂▂▂▂▂▂▁▁▁▁</td></tr><tr><td>Validation Accuracy</td><td>▁▁▁▁▁▁▂▂▂▃▃▃▄▅▅▅▅▅▅▆▆▆▆▆▆▇▇▇▇▇▇▇▇▇▇█████</td></tr><tr><td>Validation Loss</td><td>█████████▇▇▇▆▆▆▅▅▅▄▄▄▄▄▃▃▃▃▃▂▂▂▂▂▂▂▁▁▁▁▁</td></tr></table><br/></div><div class=\"wandb-col\"><h3>Run summary:</h3><br/><table class=\"wandb\"><tr><td>Epoch</td><td>50</td></tr><tr><td>Train Accuracy</td><td>45.796</td></tr><tr><td>Train Loss</td><td>1.49116</td></tr><tr><td>Validation Accuracy</td><td>44.63</td></tr><tr><td>Validation Loss</td><td>1.51564</td></tr></table><br/></div></div>"
      ],
      "text/plain": [
       "<IPython.core.display.HTML object>"
      ]
     },
     "metadata": {},
     "output_type": "display_data"
    },
    {
     "data": {
      "text/html": [
       " View run <strong style=\"color:#cdcd00\">glamorous-frog-6</strong> at: <a href='https://wandb.ai/unknownlimitless0301-university-of-suwon6591/CIFAR10_train/runs/zi41p749' target=\"_blank\">https://wandb.ai/unknownlimitless0301-university-of-suwon6591/CIFAR10_train/runs/zi41p749</a><br/> View project at: <a href='https://wandb.ai/unknownlimitless0301-university-of-suwon6591/CIFAR10_train' target=\"_blank\">https://wandb.ai/unknownlimitless0301-university-of-suwon6591/CIFAR10_train</a><br/>Synced 6 W&B file(s), 0 media file(s), 0 artifact file(s) and 0 other file(s)"
      ],
      "text/plain": [
       "<IPython.core.display.HTML object>"
      ]
     },
     "metadata": {},
     "output_type": "display_data"
    },
    {
     "data": {
      "text/html": [
       "Find logs at: <code>./wandb/run-20241009_123846-zi41p749/logs</code>"
      ],
      "text/plain": [
       "<IPython.core.display.HTML object>"
      ]
     },
     "metadata": {},
     "output_type": "display_data"
    },
    {
     "data": {
      "text/html": [
       "The new W&B backend becomes opt-out in version 0.18.0; try it out with `wandb.require(\"core\")`! See https://wandb.me/wandb-core for more information."
      ],
      "text/plain": [
       "<IPython.core.display.HTML object>"
      ]
     },
     "metadata": {},
     "output_type": "display_data"
    }
   ],
   "source": [
    "# ResNet50 모델 학습\n",
    "config = {\n",
    "    'data_root_dir': '/datasets',\n",
    "    'batch_size': 64,\n",
    "    'learning_rate': 1e-3,\n",
    "    'num_epochs': 50,\n",
    "    'model_name': 'resnet50',\n",
    "    \"dataset\": \"CIFAR10\",\n",
    "    'wandb_project_name': 'CIFAR10_train',\n",
    "    \"checkpoint_save_interval\": 10,\n",
    "    \"checkpoint_path\": \"checkpoints/resnet50_checkpoint.pth\",\n",
    "    \"best_model_path\": \"checkpoints/resnet50_best.pth\",\n",
    "}\n",
    "train_main(config)\n",
    "\n",
    "# SimpleCNN 모델 학습\n",
    "config['model_name'] = 'SimpleCNN'\n",
    "config['checkpoint_path'] = \"checkpoints/simplecnn_checkpoint.pth\"\n",
    "config['best_model_path'] = \"checkpoints/simplecnn_best.pth\"\n",
    "train_main(config)"
   ]
  },
  {
   "cell_type": "markdown",
   "metadata": {},
   "source": [
    "# Transfer learning"
   ]
  },
  {
   "cell_type": "markdown",
   "metadata": {},
   "source": [
    "Transfer learning을 위해서는 먼저 dataset transform을 사전학습된 모델의 transform과 일치시켜야 한다"
   ]
  },
  {
   "cell_type": "code",
   "execution_count": 26,
   "metadata": {},
   "outputs": [],
   "source": [
    "def load_cifar10_datasets(data_root_dir):\n",
    "    normalize = transforms.Normalize(mean=[0.485, 0.456, 0.406],\n",
    "                                     std=[0.229, 0.224, 0.225])  # pretraining에서 사용한 normalize로 수정\n",
    "    \n",
    "    train_transforms = transforms.Compose([\n",
    "        transforms.Resize((224, 224)), # pretraining에서 사용된 이미지 사이즈로 수정\n",
    "        transforms.ToTensor(),\n",
    "        normalize,\n",
    "    ])\n",
    "\n",
    "    test_transforms = transforms.Compose([\n",
    "        transforms.Resize((224, 224)), # pretraining에서 사용된 이미지 사이즈로 수정\n",
    "        transforms.ToTensor(),\n",
    "        normalize,\n",
    "    ])\n",
    "\n",
    "    train_dataset = datasets.CIFAR10(root=data_root_dir, train=True, download=True, transform=train_transforms)\n",
    "    test_dataset = datasets.CIFAR10(root=data_root_dir, train=False, download=True, transform=test_transforms)\n",
    "\n",
    "    return train_dataset, test_dataset"
   ]
  },
  {
   "cell_type": "markdown",
   "metadata": {},
   "source": [
    "아래와 같이 PyTorch에서 제공하는 pre-trained model의 weight를 가져올 수 있다.\n",
    "\n",
    "PyTorch에서 제공하는 다른 pre-trained model들은 [링크](https://pytorch.org/vision/stable/models.html#table-of-all-available-classification-weights)를 참조하기 바람"
   ]
  },
  {
   "cell_type": "code",
   "execution_count": 27,
   "metadata": {
    "tags": [
     "execute_cell"
    ]
   },
   "outputs": [],
   "source": [
    "model = models.resnet50(weights = 'IMAGENET1K_V2')"
   ]
  },
  {
   "cell_type": "markdown",
   "metadata": {},
   "source": [
    "먼저 모델의 구조를 살펴보자."
   ]
  },
  {
   "cell_type": "code",
   "execution_count": 28,
   "metadata": {
    "scrolled": true,
    "tags": [
     "execute_cell"
    ]
   },
   "outputs": [
    {
     "name": "stdout",
     "output_type": "stream",
     "text": [
      "ResNet(\n",
      "  (conv1): Conv2d(3, 64, kernel_size=(7, 7), stride=(2, 2), padding=(3, 3), bias=False)\n",
      "  (bn1): BatchNorm2d(64, eps=1e-05, momentum=0.1, affine=True, track_running_stats=True)\n",
      "  (relu): ReLU(inplace=True)\n",
      "  (maxpool): MaxPool2d(kernel_size=3, stride=2, padding=1, dilation=1, ceil_mode=False)\n",
      "  (layer1): Sequential(\n",
      "    (0): Bottleneck(\n",
      "      (conv1): Conv2d(64, 64, kernel_size=(1, 1), stride=(1, 1), bias=False)\n",
      "      (bn1): BatchNorm2d(64, eps=1e-05, momentum=0.1, affine=True, track_running_stats=True)\n",
      "      (conv2): Conv2d(64, 64, kernel_size=(3, 3), stride=(1, 1), padding=(1, 1), bias=False)\n",
      "      (bn2): BatchNorm2d(64, eps=1e-05, momentum=0.1, affine=True, track_running_stats=True)\n",
      "      (conv3): Conv2d(64, 256, kernel_size=(1, 1), stride=(1, 1), bias=False)\n",
      "      (bn3): BatchNorm2d(256, eps=1e-05, momentum=0.1, affine=True, track_running_stats=True)\n",
      "      (relu): ReLU(inplace=True)\n",
      "      (downsample): Sequential(\n",
      "        (0): Conv2d(64, 256, kernel_size=(1, 1), stride=(1, 1), bias=False)\n",
      "        (1): BatchNorm2d(256, eps=1e-05, momentum=0.1, affine=True, track_running_stats=True)\n",
      "      )\n",
      "    )\n",
      "    (1): Bottleneck(\n",
      "      (conv1): Conv2d(256, 64, kernel_size=(1, 1), stride=(1, 1), bias=False)\n",
      "      (bn1): BatchNorm2d(64, eps=1e-05, momentum=0.1, affine=True, track_running_stats=True)\n",
      "      (conv2): Conv2d(64, 64, kernel_size=(3, 3), stride=(1, 1), padding=(1, 1), bias=False)\n",
      "      (bn2): BatchNorm2d(64, eps=1e-05, momentum=0.1, affine=True, track_running_stats=True)\n",
      "      (conv3): Conv2d(64, 256, kernel_size=(1, 1), stride=(1, 1), bias=False)\n",
      "      (bn3): BatchNorm2d(256, eps=1e-05, momentum=0.1, affine=True, track_running_stats=True)\n",
      "      (relu): ReLU(inplace=True)\n",
      "    )\n",
      "    (2): Bottleneck(\n",
      "      (conv1): Conv2d(256, 64, kernel_size=(1, 1), stride=(1, 1), bias=False)\n",
      "      (bn1): BatchNorm2d(64, eps=1e-05, momentum=0.1, affine=True, track_running_stats=True)\n",
      "      (conv2): Conv2d(64, 64, kernel_size=(3, 3), stride=(1, 1), padding=(1, 1), bias=False)\n",
      "      (bn2): BatchNorm2d(64, eps=1e-05, momentum=0.1, affine=True, track_running_stats=True)\n",
      "      (conv3): Conv2d(64, 256, kernel_size=(1, 1), stride=(1, 1), bias=False)\n",
      "      (bn3): BatchNorm2d(256, eps=1e-05, momentum=0.1, affine=True, track_running_stats=True)\n",
      "      (relu): ReLU(inplace=True)\n",
      "    )\n",
      "  )\n",
      "  (layer2): Sequential(\n",
      "    (0): Bottleneck(\n",
      "      (conv1): Conv2d(256, 128, kernel_size=(1, 1), stride=(1, 1), bias=False)\n",
      "      (bn1): BatchNorm2d(128, eps=1e-05, momentum=0.1, affine=True, track_running_stats=True)\n",
      "      (conv2): Conv2d(128, 128, kernel_size=(3, 3), stride=(2, 2), padding=(1, 1), bias=False)\n",
      "      (bn2): BatchNorm2d(128, eps=1e-05, momentum=0.1, affine=True, track_running_stats=True)\n",
      "      (conv3): Conv2d(128, 512, kernel_size=(1, 1), stride=(1, 1), bias=False)\n",
      "      (bn3): BatchNorm2d(512, eps=1e-05, momentum=0.1, affine=True, track_running_stats=True)\n",
      "      (relu): ReLU(inplace=True)\n",
      "      (downsample): Sequential(\n",
      "        (0): Conv2d(256, 512, kernel_size=(1, 1), stride=(2, 2), bias=False)\n",
      "        (1): BatchNorm2d(512, eps=1e-05, momentum=0.1, affine=True, track_running_stats=True)\n",
      "      )\n",
      "    )\n",
      "    (1): Bottleneck(\n",
      "      (conv1): Conv2d(512, 128, kernel_size=(1, 1), stride=(1, 1), bias=False)\n",
      "      (bn1): BatchNorm2d(128, eps=1e-05, momentum=0.1, affine=True, track_running_stats=True)\n",
      "      (conv2): Conv2d(128, 128, kernel_size=(3, 3), stride=(1, 1), padding=(1, 1), bias=False)\n",
      "      (bn2): BatchNorm2d(128, eps=1e-05, momentum=0.1, affine=True, track_running_stats=True)\n",
      "      (conv3): Conv2d(128, 512, kernel_size=(1, 1), stride=(1, 1), bias=False)\n",
      "      (bn3): BatchNorm2d(512, eps=1e-05, momentum=0.1, affine=True, track_running_stats=True)\n",
      "      (relu): ReLU(inplace=True)\n",
      "    )\n",
      "    (2): Bottleneck(\n",
      "      (conv1): Conv2d(512, 128, kernel_size=(1, 1), stride=(1, 1), bias=False)\n",
      "      (bn1): BatchNorm2d(128, eps=1e-05, momentum=0.1, affine=True, track_running_stats=True)\n",
      "      (conv2): Conv2d(128, 128, kernel_size=(3, 3), stride=(1, 1), padding=(1, 1), bias=False)\n",
      "      (bn2): BatchNorm2d(128, eps=1e-05, momentum=0.1, affine=True, track_running_stats=True)\n",
      "      (conv3): Conv2d(128, 512, kernel_size=(1, 1), stride=(1, 1), bias=False)\n",
      "      (bn3): BatchNorm2d(512, eps=1e-05, momentum=0.1, affine=True, track_running_stats=True)\n",
      "      (relu): ReLU(inplace=True)\n",
      "    )\n",
      "    (3): Bottleneck(\n",
      "      (conv1): Conv2d(512, 128, kernel_size=(1, 1), stride=(1, 1), bias=False)\n",
      "      (bn1): BatchNorm2d(128, eps=1e-05, momentum=0.1, affine=True, track_running_stats=True)\n",
      "      (conv2): Conv2d(128, 128, kernel_size=(3, 3), stride=(1, 1), padding=(1, 1), bias=False)\n",
      "      (bn2): BatchNorm2d(128, eps=1e-05, momentum=0.1, affine=True, track_running_stats=True)\n",
      "      (conv3): Conv2d(128, 512, kernel_size=(1, 1), stride=(1, 1), bias=False)\n",
      "      (bn3): BatchNorm2d(512, eps=1e-05, momentum=0.1, affine=True, track_running_stats=True)\n",
      "      (relu): ReLU(inplace=True)\n",
      "    )\n",
      "  )\n",
      "  (layer3): Sequential(\n",
      "    (0): Bottleneck(\n",
      "      (conv1): Conv2d(512, 256, kernel_size=(1, 1), stride=(1, 1), bias=False)\n",
      "      (bn1): BatchNorm2d(256, eps=1e-05, momentum=0.1, affine=True, track_running_stats=True)\n",
      "      (conv2): Conv2d(256, 256, kernel_size=(3, 3), stride=(2, 2), padding=(1, 1), bias=False)\n",
      "      (bn2): BatchNorm2d(256, eps=1e-05, momentum=0.1, affine=True, track_running_stats=True)\n",
      "      (conv3): Conv2d(256, 1024, kernel_size=(1, 1), stride=(1, 1), bias=False)\n",
      "      (bn3): BatchNorm2d(1024, eps=1e-05, momentum=0.1, affine=True, track_running_stats=True)\n",
      "      (relu): ReLU(inplace=True)\n",
      "      (downsample): Sequential(\n",
      "        (0): Conv2d(512, 1024, kernel_size=(1, 1), stride=(2, 2), bias=False)\n",
      "        (1): BatchNorm2d(1024, eps=1e-05, momentum=0.1, affine=True, track_running_stats=True)\n",
      "      )\n",
      "    )\n",
      "    (1): Bottleneck(\n",
      "      (conv1): Conv2d(1024, 256, kernel_size=(1, 1), stride=(1, 1), bias=False)\n",
      "      (bn1): BatchNorm2d(256, eps=1e-05, momentum=0.1, affine=True, track_running_stats=True)\n",
      "      (conv2): Conv2d(256, 256, kernel_size=(3, 3), stride=(1, 1), padding=(1, 1), bias=False)\n",
      "      (bn2): BatchNorm2d(256, eps=1e-05, momentum=0.1, affine=True, track_running_stats=True)\n",
      "      (conv3): Conv2d(256, 1024, kernel_size=(1, 1), stride=(1, 1), bias=False)\n",
      "      (bn3): BatchNorm2d(1024, eps=1e-05, momentum=0.1, affine=True, track_running_stats=True)\n",
      "      (relu): ReLU(inplace=True)\n",
      "    )\n",
      "    (2): Bottleneck(\n",
      "      (conv1): Conv2d(1024, 256, kernel_size=(1, 1), stride=(1, 1), bias=False)\n",
      "      (bn1): BatchNorm2d(256, eps=1e-05, momentum=0.1, affine=True, track_running_stats=True)\n",
      "      (conv2): Conv2d(256, 256, kernel_size=(3, 3), stride=(1, 1), padding=(1, 1), bias=False)\n",
      "      (bn2): BatchNorm2d(256, eps=1e-05, momentum=0.1, affine=True, track_running_stats=True)\n",
      "      (conv3): Conv2d(256, 1024, kernel_size=(1, 1), stride=(1, 1), bias=False)\n",
      "      (bn3): BatchNorm2d(1024, eps=1e-05, momentum=0.1, affine=True, track_running_stats=True)\n",
      "      (relu): ReLU(inplace=True)\n",
      "    )\n",
      "    (3): Bottleneck(\n",
      "      (conv1): Conv2d(1024, 256, kernel_size=(1, 1), stride=(1, 1), bias=False)\n",
      "      (bn1): BatchNorm2d(256, eps=1e-05, momentum=0.1, affine=True, track_running_stats=True)\n",
      "      (conv2): Conv2d(256, 256, kernel_size=(3, 3), stride=(1, 1), padding=(1, 1), bias=False)\n",
      "      (bn2): BatchNorm2d(256, eps=1e-05, momentum=0.1, affine=True, track_running_stats=True)\n",
      "      (conv3): Conv2d(256, 1024, kernel_size=(1, 1), stride=(1, 1), bias=False)\n",
      "      (bn3): BatchNorm2d(1024, eps=1e-05, momentum=0.1, affine=True, track_running_stats=True)\n",
      "      (relu): ReLU(inplace=True)\n",
      "    )\n",
      "    (4): Bottleneck(\n",
      "      (conv1): Conv2d(1024, 256, kernel_size=(1, 1), stride=(1, 1), bias=False)\n",
      "      (bn1): BatchNorm2d(256, eps=1e-05, momentum=0.1, affine=True, track_running_stats=True)\n",
      "      (conv2): Conv2d(256, 256, kernel_size=(3, 3), stride=(1, 1), padding=(1, 1), bias=False)\n",
      "      (bn2): BatchNorm2d(256, eps=1e-05, momentum=0.1, affine=True, track_running_stats=True)\n",
      "      (conv3): Conv2d(256, 1024, kernel_size=(1, 1), stride=(1, 1), bias=False)\n",
      "      (bn3): BatchNorm2d(1024, eps=1e-05, momentum=0.1, affine=True, track_running_stats=True)\n",
      "      (relu): ReLU(inplace=True)\n",
      "    )\n",
      "    (5): Bottleneck(\n",
      "      (conv1): Conv2d(1024, 256, kernel_size=(1, 1), stride=(1, 1), bias=False)\n",
      "      (bn1): BatchNorm2d(256, eps=1e-05, momentum=0.1, affine=True, track_running_stats=True)\n",
      "      (conv2): Conv2d(256, 256, kernel_size=(3, 3), stride=(1, 1), padding=(1, 1), bias=False)\n",
      "      (bn2): BatchNorm2d(256, eps=1e-05, momentum=0.1, affine=True, track_running_stats=True)\n",
      "      (conv3): Conv2d(256, 1024, kernel_size=(1, 1), stride=(1, 1), bias=False)\n",
      "      (bn3): BatchNorm2d(1024, eps=1e-05, momentum=0.1, affine=True, track_running_stats=True)\n",
      "      (relu): ReLU(inplace=True)\n",
      "    )\n",
      "  )\n",
      "  (layer4): Sequential(\n",
      "    (0): Bottleneck(\n",
      "      (conv1): Conv2d(1024, 512, kernel_size=(1, 1), stride=(1, 1), bias=False)\n",
      "      (bn1): BatchNorm2d(512, eps=1e-05, momentum=0.1, affine=True, track_running_stats=True)\n",
      "      (conv2): Conv2d(512, 512, kernel_size=(3, 3), stride=(2, 2), padding=(1, 1), bias=False)\n",
      "      (bn2): BatchNorm2d(512, eps=1e-05, momentum=0.1, affine=True, track_running_stats=True)\n",
      "      (conv3): Conv2d(512, 2048, kernel_size=(1, 1), stride=(1, 1), bias=False)\n",
      "      (bn3): BatchNorm2d(2048, eps=1e-05, momentum=0.1, affine=True, track_running_stats=True)\n",
      "      (relu): ReLU(inplace=True)\n",
      "      (downsample): Sequential(\n",
      "        (0): Conv2d(1024, 2048, kernel_size=(1, 1), stride=(2, 2), bias=False)\n",
      "        (1): BatchNorm2d(2048, eps=1e-05, momentum=0.1, affine=True, track_running_stats=True)\n",
      "      )\n",
      "    )\n",
      "    (1): Bottleneck(\n",
      "      (conv1): Conv2d(2048, 512, kernel_size=(1, 1), stride=(1, 1), bias=False)\n",
      "      (bn1): BatchNorm2d(512, eps=1e-05, momentum=0.1, affine=True, track_running_stats=True)\n",
      "      (conv2): Conv2d(512, 512, kernel_size=(3, 3), stride=(1, 1), padding=(1, 1), bias=False)\n",
      "      (bn2): BatchNorm2d(512, eps=1e-05, momentum=0.1, affine=True, track_running_stats=True)\n",
      "      (conv3): Conv2d(512, 2048, kernel_size=(1, 1), stride=(1, 1), bias=False)\n",
      "      (bn3): BatchNorm2d(2048, eps=1e-05, momentum=0.1, affine=True, track_running_stats=True)\n",
      "      (relu): ReLU(inplace=True)\n",
      "    )\n",
      "    (2): Bottleneck(\n",
      "      (conv1): Conv2d(2048, 512, kernel_size=(1, 1), stride=(1, 1), bias=False)\n",
      "      (bn1): BatchNorm2d(512, eps=1e-05, momentum=0.1, affine=True, track_running_stats=True)\n",
      "      (conv2): Conv2d(512, 512, kernel_size=(3, 3), stride=(1, 1), padding=(1, 1), bias=False)\n",
      "      (bn2): BatchNorm2d(512, eps=1e-05, momentum=0.1, affine=True, track_running_stats=True)\n",
      "      (conv3): Conv2d(512, 2048, kernel_size=(1, 1), stride=(1, 1), bias=False)\n",
      "      (bn3): BatchNorm2d(2048, eps=1e-05, momentum=0.1, affine=True, track_running_stats=True)\n",
      "      (relu): ReLU(inplace=True)\n",
      "    )\n",
      "  )\n",
      "  (avgpool): AdaptiveAvgPool2d(output_size=(1, 1))\n",
      "  (fc): Linear(in_features=2048, out_features=1000, bias=True)\n",
      ")\n"
     ]
    }
   ],
   "source": [
    "print(model)"
   ]
  },
  {
   "cell_type": "code",
   "execution_count": 5,
   "metadata": {
    "scrolled": true,
    "tags": [
     "execute_cell"
    ]
   },
   "outputs": [
    {
     "name": "stdout",
     "output_type": "stream",
     "text": [
      "conv1.weight                        torch.Size([64, 3, 7, 7])\n",
      "bn1.weight                          torch.Size([64])\n",
      "bn1.bias                            torch.Size([64])\n",
      "layer1.0.conv1.weight               torch.Size([64, 64, 1, 1])\n",
      "layer1.0.bn1.weight                 torch.Size([64])\n",
      "layer1.0.bn1.bias                   torch.Size([64])\n",
      "layer1.0.conv2.weight               torch.Size([64, 64, 3, 3])\n",
      "layer1.0.bn2.weight                 torch.Size([64])\n",
      "layer1.0.bn2.bias                   torch.Size([64])\n",
      "layer1.0.conv3.weight               torch.Size([256, 64, 1, 1])\n",
      "layer1.0.bn3.weight                 torch.Size([256])\n",
      "layer1.0.bn3.bias                   torch.Size([256])\n",
      "layer1.0.downsample.0.weight        torch.Size([256, 64, 1, 1])\n",
      "layer1.0.downsample.1.weight        torch.Size([256])\n",
      "layer1.0.downsample.1.bias          torch.Size([256])\n",
      "layer1.1.conv1.weight               torch.Size([64, 256, 1, 1])\n",
      "layer1.1.bn1.weight                 torch.Size([64])\n",
      "layer1.1.bn1.bias                   torch.Size([64])\n",
      "layer1.1.conv2.weight               torch.Size([64, 64, 3, 3])\n",
      "layer1.1.bn2.weight                 torch.Size([64])\n",
      "layer1.1.bn2.bias                   torch.Size([64])\n",
      "layer1.1.conv3.weight               torch.Size([256, 64, 1, 1])\n",
      "layer1.1.bn3.weight                 torch.Size([256])\n",
      "layer1.1.bn3.bias                   torch.Size([256])\n",
      "layer1.2.conv1.weight               torch.Size([64, 256, 1, 1])\n",
      "layer1.2.bn1.weight                 torch.Size([64])\n",
      "layer1.2.bn1.bias                   torch.Size([64])\n",
      "layer1.2.conv2.weight               torch.Size([64, 64, 3, 3])\n",
      "layer1.2.bn2.weight                 torch.Size([64])\n",
      "layer1.2.bn2.bias                   torch.Size([64])\n",
      "layer1.2.conv3.weight               torch.Size([256, 64, 1, 1])\n",
      "layer1.2.bn3.weight                 torch.Size([256])\n",
      "layer1.2.bn3.bias                   torch.Size([256])\n",
      "layer2.0.conv1.weight               torch.Size([128, 256, 1, 1])\n",
      "layer2.0.bn1.weight                 torch.Size([128])\n",
      "layer2.0.bn1.bias                   torch.Size([128])\n",
      "layer2.0.conv2.weight               torch.Size([128, 128, 3, 3])\n",
      "layer2.0.bn2.weight                 torch.Size([128])\n",
      "layer2.0.bn2.bias                   torch.Size([128])\n",
      "layer2.0.conv3.weight               torch.Size([512, 128, 1, 1])\n",
      "layer2.0.bn3.weight                 torch.Size([512])\n",
      "layer2.0.bn3.bias                   torch.Size([512])\n",
      "layer2.0.downsample.0.weight        torch.Size([512, 256, 1, 1])\n",
      "layer2.0.downsample.1.weight        torch.Size([512])\n",
      "layer2.0.downsample.1.bias          torch.Size([512])\n",
      "layer2.1.conv1.weight               torch.Size([128, 512, 1, 1])\n",
      "layer2.1.bn1.weight                 torch.Size([128])\n",
      "layer2.1.bn1.bias                   torch.Size([128])\n",
      "layer2.1.conv2.weight               torch.Size([128, 128, 3, 3])\n",
      "layer2.1.bn2.weight                 torch.Size([128])\n",
      "layer2.1.bn2.bias                   torch.Size([128])\n",
      "layer2.1.conv3.weight               torch.Size([512, 128, 1, 1])\n",
      "layer2.1.bn3.weight                 torch.Size([512])\n",
      "layer2.1.bn3.bias                   torch.Size([512])\n",
      "layer2.2.conv1.weight               torch.Size([128, 512, 1, 1])\n",
      "layer2.2.bn1.weight                 torch.Size([128])\n",
      "layer2.2.bn1.bias                   torch.Size([128])\n",
      "layer2.2.conv2.weight               torch.Size([128, 128, 3, 3])\n",
      "layer2.2.bn2.weight                 torch.Size([128])\n",
      "layer2.2.bn2.bias                   torch.Size([128])\n",
      "layer2.2.conv3.weight               torch.Size([512, 128, 1, 1])\n",
      "layer2.2.bn3.weight                 torch.Size([512])\n",
      "layer2.2.bn3.bias                   torch.Size([512])\n",
      "layer2.3.conv1.weight               torch.Size([128, 512, 1, 1])\n",
      "layer2.3.bn1.weight                 torch.Size([128])\n",
      "layer2.3.bn1.bias                   torch.Size([128])\n",
      "layer2.3.conv2.weight               torch.Size([128, 128, 3, 3])\n",
      "layer2.3.bn2.weight                 torch.Size([128])\n",
      "layer2.3.bn2.bias                   torch.Size([128])\n",
      "layer2.3.conv3.weight               torch.Size([512, 128, 1, 1])\n",
      "layer2.3.bn3.weight                 torch.Size([512])\n",
      "layer2.3.bn3.bias                   torch.Size([512])\n",
      "layer3.0.conv1.weight               torch.Size([256, 512, 1, 1])\n",
      "layer3.0.bn1.weight                 torch.Size([256])\n",
      "layer3.0.bn1.bias                   torch.Size([256])\n",
      "layer3.0.conv2.weight               torch.Size([256, 256, 3, 3])\n",
      "layer3.0.bn2.weight                 torch.Size([256])\n",
      "layer3.0.bn2.bias                   torch.Size([256])\n",
      "layer3.0.conv3.weight               torch.Size([1024, 256, 1, 1])\n",
      "layer3.0.bn3.weight                 torch.Size([1024])\n",
      "layer3.0.bn3.bias                   torch.Size([1024])\n",
      "layer3.0.downsample.0.weight        torch.Size([1024, 512, 1, 1])\n",
      "layer3.0.downsample.1.weight        torch.Size([1024])\n",
      "layer3.0.downsample.1.bias          torch.Size([1024])\n",
      "layer3.1.conv1.weight               torch.Size([256, 1024, 1, 1])\n",
      "layer3.1.bn1.weight                 torch.Size([256])\n",
      "layer3.1.bn1.bias                   torch.Size([256])\n",
      "layer3.1.conv2.weight               torch.Size([256, 256, 3, 3])\n",
      "layer3.1.bn2.weight                 torch.Size([256])\n",
      "layer3.1.bn2.bias                   torch.Size([256])\n",
      "layer3.1.conv3.weight               torch.Size([1024, 256, 1, 1])\n",
      "layer3.1.bn3.weight                 torch.Size([1024])\n",
      "layer3.1.bn3.bias                   torch.Size([1024])\n",
      "layer3.2.conv1.weight               torch.Size([256, 1024, 1, 1])\n",
      "layer3.2.bn1.weight                 torch.Size([256])\n",
      "layer3.2.bn1.bias                   torch.Size([256])\n",
      "layer3.2.conv2.weight               torch.Size([256, 256, 3, 3])\n",
      "layer3.2.bn2.weight                 torch.Size([256])\n",
      "layer3.2.bn2.bias                   torch.Size([256])\n",
      "layer3.2.conv3.weight               torch.Size([1024, 256, 1, 1])\n",
      "layer3.2.bn3.weight                 torch.Size([1024])\n",
      "layer3.2.bn3.bias                   torch.Size([1024])\n",
      "layer3.3.conv1.weight               torch.Size([256, 1024, 1, 1])\n",
      "layer3.3.bn1.weight                 torch.Size([256])\n",
      "layer3.3.bn1.bias                   torch.Size([256])\n",
      "layer3.3.conv2.weight               torch.Size([256, 256, 3, 3])\n",
      "layer3.3.bn2.weight                 torch.Size([256])\n",
      "layer3.3.bn2.bias                   torch.Size([256])\n",
      "layer3.3.conv3.weight               torch.Size([1024, 256, 1, 1])\n",
      "layer3.3.bn3.weight                 torch.Size([1024])\n",
      "layer3.3.bn3.bias                   torch.Size([1024])\n",
      "layer3.4.conv1.weight               torch.Size([256, 1024, 1, 1])\n",
      "layer3.4.bn1.weight                 torch.Size([256])\n",
      "layer3.4.bn1.bias                   torch.Size([256])\n",
      "layer3.4.conv2.weight               torch.Size([256, 256, 3, 3])\n",
      "layer3.4.bn2.weight                 torch.Size([256])\n",
      "layer3.4.bn2.bias                   torch.Size([256])\n",
      "layer3.4.conv3.weight               torch.Size([1024, 256, 1, 1])\n",
      "layer3.4.bn3.weight                 torch.Size([1024])\n",
      "layer3.4.bn3.bias                   torch.Size([1024])\n",
      "layer3.5.conv1.weight               torch.Size([256, 1024, 1, 1])\n",
      "layer3.5.bn1.weight                 torch.Size([256])\n",
      "layer3.5.bn1.bias                   torch.Size([256])\n",
      "layer3.5.conv2.weight               torch.Size([256, 256, 3, 3])\n",
      "layer3.5.bn2.weight                 torch.Size([256])\n",
      "layer3.5.bn2.bias                   torch.Size([256])\n",
      "layer3.5.conv3.weight               torch.Size([1024, 256, 1, 1])\n",
      "layer3.5.bn3.weight                 torch.Size([1024])\n",
      "layer3.5.bn3.bias                   torch.Size([1024])\n",
      "layer4.0.conv1.weight               torch.Size([512, 1024, 1, 1])\n",
      "layer4.0.bn1.weight                 torch.Size([512])\n",
      "layer4.0.bn1.bias                   torch.Size([512])\n",
      "layer4.0.conv2.weight               torch.Size([512, 512, 3, 3])\n",
      "layer4.0.bn2.weight                 torch.Size([512])\n",
      "layer4.0.bn2.bias                   torch.Size([512])\n",
      "layer4.0.conv3.weight               torch.Size([2048, 512, 1, 1])\n",
      "layer4.0.bn3.weight                 torch.Size([2048])\n",
      "layer4.0.bn3.bias                   torch.Size([2048])\n",
      "layer4.0.downsample.0.weight        torch.Size([2048, 1024, 1, 1])\n",
      "layer4.0.downsample.1.weight        torch.Size([2048])\n",
      "layer4.0.downsample.1.bias          torch.Size([2048])\n",
      "layer4.1.conv1.weight               torch.Size([512, 2048, 1, 1])\n",
      "layer4.1.bn1.weight                 torch.Size([512])\n",
      "layer4.1.bn1.bias                   torch.Size([512])\n",
      "layer4.1.conv2.weight               torch.Size([512, 512, 3, 3])\n",
      "layer4.1.bn2.weight                 torch.Size([512])\n",
      "layer4.1.bn2.bias                   torch.Size([512])\n",
      "layer4.1.conv3.weight               torch.Size([2048, 512, 1, 1])\n",
      "layer4.1.bn3.weight                 torch.Size([2048])\n",
      "layer4.1.bn3.bias                   torch.Size([2048])\n",
      "layer4.2.conv1.weight               torch.Size([512, 2048, 1, 1])\n",
      "layer4.2.bn1.weight                 torch.Size([512])\n",
      "layer4.2.bn1.bias                   torch.Size([512])\n",
      "layer4.2.conv2.weight               torch.Size([512, 512, 3, 3])\n",
      "layer4.2.bn2.weight                 torch.Size([512])\n",
      "layer4.2.bn2.bias                   torch.Size([512])\n",
      "layer4.2.conv3.weight               torch.Size([2048, 512, 1, 1])\n",
      "layer4.2.bn3.weight                 torch.Size([2048])\n",
      "layer4.2.bn3.bias                   torch.Size([2048])\n",
      "fc.weight                           torch.Size([1000, 2048])\n",
      "fc.bias                             torch.Size([1000])\n"
     ]
    }
   ],
   "source": [
    "for name, param in model.named_parameters():\n",
    "    print(f\"{name:<35} {param.shape}\")"
   ]
  },
  {
   "cell_type": "markdown",
   "metadata": {},
   "source": [
    "Transfer learning을 위해서는 두가지가 필요하다.\n",
    "1. 마지막 레이어의 logit 출력 차원을 데이터셋에 적합하게 수정 (out_features = 10 for CIFAR10 dataset)\n",
    "2. 학습할 layer를 설정\n",
    "\n",
    "아래와 같은 코드를 통해 마지막 레이어인 fc layer를 수정할 수 있다."
   ]
  },
  {
   "cell_type": "code",
   "execution_count": 29,
   "metadata": {
    "scrolled": true,
    "tags": [
     "execute_cell"
    ]
   },
   "outputs": [
    {
     "name": "stdout",
     "output_type": "stream",
     "text": [
      "ResNet(\n",
      "  (conv1): Conv2d(3, 64, kernel_size=(7, 7), stride=(2, 2), padding=(3, 3), bias=False)\n",
      "  (bn1): BatchNorm2d(64, eps=1e-05, momentum=0.1, affine=True, track_running_stats=True)\n",
      "  (relu): ReLU(inplace=True)\n",
      "  (maxpool): MaxPool2d(kernel_size=3, stride=2, padding=1, dilation=1, ceil_mode=False)\n",
      "  (layer1): Sequential(\n",
      "    (0): Bottleneck(\n",
      "      (conv1): Conv2d(64, 64, kernel_size=(1, 1), stride=(1, 1), bias=False)\n",
      "      (bn1): BatchNorm2d(64, eps=1e-05, momentum=0.1, affine=True, track_running_stats=True)\n",
      "      (conv2): Conv2d(64, 64, kernel_size=(3, 3), stride=(1, 1), padding=(1, 1), bias=False)\n",
      "      (bn2): BatchNorm2d(64, eps=1e-05, momentum=0.1, affine=True, track_running_stats=True)\n",
      "      (conv3): Conv2d(64, 256, kernel_size=(1, 1), stride=(1, 1), bias=False)\n",
      "      (bn3): BatchNorm2d(256, eps=1e-05, momentum=0.1, affine=True, track_running_stats=True)\n",
      "      (relu): ReLU(inplace=True)\n",
      "      (downsample): Sequential(\n",
      "        (0): Conv2d(64, 256, kernel_size=(1, 1), stride=(1, 1), bias=False)\n",
      "        (1): BatchNorm2d(256, eps=1e-05, momentum=0.1, affine=True, track_running_stats=True)\n",
      "      )\n",
      "    )\n",
      "    (1): Bottleneck(\n",
      "      (conv1): Conv2d(256, 64, kernel_size=(1, 1), stride=(1, 1), bias=False)\n",
      "      (bn1): BatchNorm2d(64, eps=1e-05, momentum=0.1, affine=True, track_running_stats=True)\n",
      "      (conv2): Conv2d(64, 64, kernel_size=(3, 3), stride=(1, 1), padding=(1, 1), bias=False)\n",
      "      (bn2): BatchNorm2d(64, eps=1e-05, momentum=0.1, affine=True, track_running_stats=True)\n",
      "      (conv3): Conv2d(64, 256, kernel_size=(1, 1), stride=(1, 1), bias=False)\n",
      "      (bn3): BatchNorm2d(256, eps=1e-05, momentum=0.1, affine=True, track_running_stats=True)\n",
      "      (relu): ReLU(inplace=True)\n",
      "    )\n",
      "    (2): Bottleneck(\n",
      "      (conv1): Conv2d(256, 64, kernel_size=(1, 1), stride=(1, 1), bias=False)\n",
      "      (bn1): BatchNorm2d(64, eps=1e-05, momentum=0.1, affine=True, track_running_stats=True)\n",
      "      (conv2): Conv2d(64, 64, kernel_size=(3, 3), stride=(1, 1), padding=(1, 1), bias=False)\n",
      "      (bn2): BatchNorm2d(64, eps=1e-05, momentum=0.1, affine=True, track_running_stats=True)\n",
      "      (conv3): Conv2d(64, 256, kernel_size=(1, 1), stride=(1, 1), bias=False)\n",
      "      (bn3): BatchNorm2d(256, eps=1e-05, momentum=0.1, affine=True, track_running_stats=True)\n",
      "      (relu): ReLU(inplace=True)\n",
      "    )\n",
      "  )\n",
      "  (layer2): Sequential(\n",
      "    (0): Bottleneck(\n",
      "      (conv1): Conv2d(256, 128, kernel_size=(1, 1), stride=(1, 1), bias=False)\n",
      "      (bn1): BatchNorm2d(128, eps=1e-05, momentum=0.1, affine=True, track_running_stats=True)\n",
      "      (conv2): Conv2d(128, 128, kernel_size=(3, 3), stride=(2, 2), padding=(1, 1), bias=False)\n",
      "      (bn2): BatchNorm2d(128, eps=1e-05, momentum=0.1, affine=True, track_running_stats=True)\n",
      "      (conv3): Conv2d(128, 512, kernel_size=(1, 1), stride=(1, 1), bias=False)\n",
      "      (bn3): BatchNorm2d(512, eps=1e-05, momentum=0.1, affine=True, track_running_stats=True)\n",
      "      (relu): ReLU(inplace=True)\n",
      "      (downsample): Sequential(\n",
      "        (0): Conv2d(256, 512, kernel_size=(1, 1), stride=(2, 2), bias=False)\n",
      "        (1): BatchNorm2d(512, eps=1e-05, momentum=0.1, affine=True, track_running_stats=True)\n",
      "      )\n",
      "    )\n",
      "    (1): Bottleneck(\n",
      "      (conv1): Conv2d(512, 128, kernel_size=(1, 1), stride=(1, 1), bias=False)\n",
      "      (bn1): BatchNorm2d(128, eps=1e-05, momentum=0.1, affine=True, track_running_stats=True)\n",
      "      (conv2): Conv2d(128, 128, kernel_size=(3, 3), stride=(1, 1), padding=(1, 1), bias=False)\n",
      "      (bn2): BatchNorm2d(128, eps=1e-05, momentum=0.1, affine=True, track_running_stats=True)\n",
      "      (conv3): Conv2d(128, 512, kernel_size=(1, 1), stride=(1, 1), bias=False)\n",
      "      (bn3): BatchNorm2d(512, eps=1e-05, momentum=0.1, affine=True, track_running_stats=True)\n",
      "      (relu): ReLU(inplace=True)\n",
      "    )\n",
      "    (2): Bottleneck(\n",
      "      (conv1): Conv2d(512, 128, kernel_size=(1, 1), stride=(1, 1), bias=False)\n",
      "      (bn1): BatchNorm2d(128, eps=1e-05, momentum=0.1, affine=True, track_running_stats=True)\n",
      "      (conv2): Conv2d(128, 128, kernel_size=(3, 3), stride=(1, 1), padding=(1, 1), bias=False)\n",
      "      (bn2): BatchNorm2d(128, eps=1e-05, momentum=0.1, affine=True, track_running_stats=True)\n",
      "      (conv3): Conv2d(128, 512, kernel_size=(1, 1), stride=(1, 1), bias=False)\n",
      "      (bn3): BatchNorm2d(512, eps=1e-05, momentum=0.1, affine=True, track_running_stats=True)\n",
      "      (relu): ReLU(inplace=True)\n",
      "    )\n",
      "    (3): Bottleneck(\n",
      "      (conv1): Conv2d(512, 128, kernel_size=(1, 1), stride=(1, 1), bias=False)\n",
      "      (bn1): BatchNorm2d(128, eps=1e-05, momentum=0.1, affine=True, track_running_stats=True)\n",
      "      (conv2): Conv2d(128, 128, kernel_size=(3, 3), stride=(1, 1), padding=(1, 1), bias=False)\n",
      "      (bn2): BatchNorm2d(128, eps=1e-05, momentum=0.1, affine=True, track_running_stats=True)\n",
      "      (conv3): Conv2d(128, 512, kernel_size=(1, 1), stride=(1, 1), bias=False)\n",
      "      (bn3): BatchNorm2d(512, eps=1e-05, momentum=0.1, affine=True, track_running_stats=True)\n",
      "      (relu): ReLU(inplace=True)\n",
      "    )\n",
      "  )\n",
      "  (layer3): Sequential(\n",
      "    (0): Bottleneck(\n",
      "      (conv1): Conv2d(512, 256, kernel_size=(1, 1), stride=(1, 1), bias=False)\n",
      "      (bn1): BatchNorm2d(256, eps=1e-05, momentum=0.1, affine=True, track_running_stats=True)\n",
      "      (conv2): Conv2d(256, 256, kernel_size=(3, 3), stride=(2, 2), padding=(1, 1), bias=False)\n",
      "      (bn2): BatchNorm2d(256, eps=1e-05, momentum=0.1, affine=True, track_running_stats=True)\n",
      "      (conv3): Conv2d(256, 1024, kernel_size=(1, 1), stride=(1, 1), bias=False)\n",
      "      (bn3): BatchNorm2d(1024, eps=1e-05, momentum=0.1, affine=True, track_running_stats=True)\n",
      "      (relu): ReLU(inplace=True)\n",
      "      (downsample): Sequential(\n",
      "        (0): Conv2d(512, 1024, kernel_size=(1, 1), stride=(2, 2), bias=False)\n",
      "        (1): BatchNorm2d(1024, eps=1e-05, momentum=0.1, affine=True, track_running_stats=True)\n",
      "      )\n",
      "    )\n",
      "    (1): Bottleneck(\n",
      "      (conv1): Conv2d(1024, 256, kernel_size=(1, 1), stride=(1, 1), bias=False)\n",
      "      (bn1): BatchNorm2d(256, eps=1e-05, momentum=0.1, affine=True, track_running_stats=True)\n",
      "      (conv2): Conv2d(256, 256, kernel_size=(3, 3), stride=(1, 1), padding=(1, 1), bias=False)\n",
      "      (bn2): BatchNorm2d(256, eps=1e-05, momentum=0.1, affine=True, track_running_stats=True)\n",
      "      (conv3): Conv2d(256, 1024, kernel_size=(1, 1), stride=(1, 1), bias=False)\n",
      "      (bn3): BatchNorm2d(1024, eps=1e-05, momentum=0.1, affine=True, track_running_stats=True)\n",
      "      (relu): ReLU(inplace=True)\n",
      "    )\n",
      "    (2): Bottleneck(\n",
      "      (conv1): Conv2d(1024, 256, kernel_size=(1, 1), stride=(1, 1), bias=False)\n",
      "      (bn1): BatchNorm2d(256, eps=1e-05, momentum=0.1, affine=True, track_running_stats=True)\n",
      "      (conv2): Conv2d(256, 256, kernel_size=(3, 3), stride=(1, 1), padding=(1, 1), bias=False)\n",
      "      (bn2): BatchNorm2d(256, eps=1e-05, momentum=0.1, affine=True, track_running_stats=True)\n",
      "      (conv3): Conv2d(256, 1024, kernel_size=(1, 1), stride=(1, 1), bias=False)\n",
      "      (bn3): BatchNorm2d(1024, eps=1e-05, momentum=0.1, affine=True, track_running_stats=True)\n",
      "      (relu): ReLU(inplace=True)\n",
      "    )\n",
      "    (3): Bottleneck(\n",
      "      (conv1): Conv2d(1024, 256, kernel_size=(1, 1), stride=(1, 1), bias=False)\n",
      "      (bn1): BatchNorm2d(256, eps=1e-05, momentum=0.1, affine=True, track_running_stats=True)\n",
      "      (conv2): Conv2d(256, 256, kernel_size=(3, 3), stride=(1, 1), padding=(1, 1), bias=False)\n",
      "      (bn2): BatchNorm2d(256, eps=1e-05, momentum=0.1, affine=True, track_running_stats=True)\n",
      "      (conv3): Conv2d(256, 1024, kernel_size=(1, 1), stride=(1, 1), bias=False)\n",
      "      (bn3): BatchNorm2d(1024, eps=1e-05, momentum=0.1, affine=True, track_running_stats=True)\n",
      "      (relu): ReLU(inplace=True)\n",
      "    )\n",
      "    (4): Bottleneck(\n",
      "      (conv1): Conv2d(1024, 256, kernel_size=(1, 1), stride=(1, 1), bias=False)\n",
      "      (bn1): BatchNorm2d(256, eps=1e-05, momentum=0.1, affine=True, track_running_stats=True)\n",
      "      (conv2): Conv2d(256, 256, kernel_size=(3, 3), stride=(1, 1), padding=(1, 1), bias=False)\n",
      "      (bn2): BatchNorm2d(256, eps=1e-05, momentum=0.1, affine=True, track_running_stats=True)\n",
      "      (conv3): Conv2d(256, 1024, kernel_size=(1, 1), stride=(1, 1), bias=False)\n",
      "      (bn3): BatchNorm2d(1024, eps=1e-05, momentum=0.1, affine=True, track_running_stats=True)\n",
      "      (relu): ReLU(inplace=True)\n",
      "    )\n",
      "    (5): Bottleneck(\n",
      "      (conv1): Conv2d(1024, 256, kernel_size=(1, 1), stride=(1, 1), bias=False)\n",
      "      (bn1): BatchNorm2d(256, eps=1e-05, momentum=0.1, affine=True, track_running_stats=True)\n",
      "      (conv2): Conv2d(256, 256, kernel_size=(3, 3), stride=(1, 1), padding=(1, 1), bias=False)\n",
      "      (bn2): BatchNorm2d(256, eps=1e-05, momentum=0.1, affine=True, track_running_stats=True)\n",
      "      (conv3): Conv2d(256, 1024, kernel_size=(1, 1), stride=(1, 1), bias=False)\n",
      "      (bn3): BatchNorm2d(1024, eps=1e-05, momentum=0.1, affine=True, track_running_stats=True)\n",
      "      (relu): ReLU(inplace=True)\n",
      "    )\n",
      "  )\n",
      "  (layer4): Sequential(\n",
      "    (0): Bottleneck(\n",
      "      (conv1): Conv2d(1024, 512, kernel_size=(1, 1), stride=(1, 1), bias=False)\n",
      "      (bn1): BatchNorm2d(512, eps=1e-05, momentum=0.1, affine=True, track_running_stats=True)\n",
      "      (conv2): Conv2d(512, 512, kernel_size=(3, 3), stride=(2, 2), padding=(1, 1), bias=False)\n",
      "      (bn2): BatchNorm2d(512, eps=1e-05, momentum=0.1, affine=True, track_running_stats=True)\n",
      "      (conv3): Conv2d(512, 2048, kernel_size=(1, 1), stride=(1, 1), bias=False)\n",
      "      (bn3): BatchNorm2d(2048, eps=1e-05, momentum=0.1, affine=True, track_running_stats=True)\n",
      "      (relu): ReLU(inplace=True)\n",
      "      (downsample): Sequential(\n",
      "        (0): Conv2d(1024, 2048, kernel_size=(1, 1), stride=(2, 2), bias=False)\n",
      "        (1): BatchNorm2d(2048, eps=1e-05, momentum=0.1, affine=True, track_running_stats=True)\n",
      "      )\n",
      "    )\n",
      "    (1): Bottleneck(\n",
      "      (conv1): Conv2d(2048, 512, kernel_size=(1, 1), stride=(1, 1), bias=False)\n",
      "      (bn1): BatchNorm2d(512, eps=1e-05, momentum=0.1, affine=True, track_running_stats=True)\n",
      "      (conv2): Conv2d(512, 512, kernel_size=(3, 3), stride=(1, 1), padding=(1, 1), bias=False)\n",
      "      (bn2): BatchNorm2d(512, eps=1e-05, momentum=0.1, affine=True, track_running_stats=True)\n",
      "      (conv3): Conv2d(512, 2048, kernel_size=(1, 1), stride=(1, 1), bias=False)\n",
      "      (bn3): BatchNorm2d(2048, eps=1e-05, momentum=0.1, affine=True, track_running_stats=True)\n",
      "      (relu): ReLU(inplace=True)\n",
      "    )\n",
      "    (2): Bottleneck(\n",
      "      (conv1): Conv2d(2048, 512, kernel_size=(1, 1), stride=(1, 1), bias=False)\n",
      "      (bn1): BatchNorm2d(512, eps=1e-05, momentum=0.1, affine=True, track_running_stats=True)\n",
      "      (conv2): Conv2d(512, 512, kernel_size=(3, 3), stride=(1, 1), padding=(1, 1), bias=False)\n",
      "      (bn2): BatchNorm2d(512, eps=1e-05, momentum=0.1, affine=True, track_running_stats=True)\n",
      "      (conv3): Conv2d(512, 2048, kernel_size=(1, 1), stride=(1, 1), bias=False)\n",
      "      (bn3): BatchNorm2d(2048, eps=1e-05, momentum=0.1, affine=True, track_running_stats=True)\n",
      "      (relu): ReLU(inplace=True)\n",
      "    )\n",
      "  )\n",
      "  (avgpool): AdaptiveAvgPool2d(output_size=(1, 1))\n",
      "  (fc): Linear(in_features=2048, out_features=10, bias=True)\n",
      ")\n"
     ]
    }
   ],
   "source": [
    "model.fc = nn.Linear(model.fc.in_features, 10)\n",
    "print(model)"
   ]
  },
  {
   "cell_type": "markdown",
   "metadata": {},
   "source": [
    "아래와 같은 코드를 통해 학습하고자 하는 파라미터를 설정할 수 있다."
   ]
  },
  {
   "cell_type": "code",
   "execution_count": 30,
   "metadata": {
    "scrolled": true,
    "tags": [
     "execute_cell"
    ]
   },
   "outputs": [
    {
     "name": "stdout",
     "output_type": "stream",
     "text": [
      "conv1.weight                   Param shape: torch.Size([64, 3, 7, 7])      requires_grad: False\n",
      "bn1.weight                     Param shape: torch.Size([64])               requires_grad: False\n",
      "bn1.bias                       Param shape: torch.Size([64])               requires_grad: False\n",
      "layer1.0.conv1.weight          Param shape: torch.Size([64, 64, 1, 1])     requires_grad: False\n",
      "layer1.0.bn1.weight            Param shape: torch.Size([64])               requires_grad: False\n",
      "layer1.0.bn1.bias              Param shape: torch.Size([64])               requires_grad: False\n",
      "layer1.0.conv2.weight          Param shape: torch.Size([64, 64, 3, 3])     requires_grad: False\n",
      "layer1.0.bn2.weight            Param shape: torch.Size([64])               requires_grad: False\n",
      "layer1.0.bn2.bias              Param shape: torch.Size([64])               requires_grad: False\n",
      "layer1.0.conv3.weight          Param shape: torch.Size([256, 64, 1, 1])    requires_grad: False\n",
      "layer1.0.bn3.weight            Param shape: torch.Size([256])              requires_grad: False\n",
      "layer1.0.bn3.bias              Param shape: torch.Size([256])              requires_grad: False\n",
      "layer1.0.downsample.0.weight   Param shape: torch.Size([256, 64, 1, 1])    requires_grad: False\n",
      "layer1.0.downsample.1.weight   Param shape: torch.Size([256])              requires_grad: False\n",
      "layer1.0.downsample.1.bias     Param shape: torch.Size([256])              requires_grad: False\n",
      "layer1.1.conv1.weight          Param shape: torch.Size([64, 256, 1, 1])    requires_grad: False\n",
      "layer1.1.bn1.weight            Param shape: torch.Size([64])               requires_grad: False\n",
      "layer1.1.bn1.bias              Param shape: torch.Size([64])               requires_grad: False\n",
      "layer1.1.conv2.weight          Param shape: torch.Size([64, 64, 3, 3])     requires_grad: False\n",
      "layer1.1.bn2.weight            Param shape: torch.Size([64])               requires_grad: False\n",
      "layer1.1.bn2.bias              Param shape: torch.Size([64])               requires_grad: False\n",
      "layer1.1.conv3.weight          Param shape: torch.Size([256, 64, 1, 1])    requires_grad: False\n",
      "layer1.1.bn3.weight            Param shape: torch.Size([256])              requires_grad: False\n",
      "layer1.1.bn3.bias              Param shape: torch.Size([256])              requires_grad: False\n",
      "layer1.2.conv1.weight          Param shape: torch.Size([64, 256, 1, 1])    requires_grad: False\n",
      "layer1.2.bn1.weight            Param shape: torch.Size([64])               requires_grad: False\n",
      "layer1.2.bn1.bias              Param shape: torch.Size([64])               requires_grad: False\n",
      "layer1.2.conv2.weight          Param shape: torch.Size([64, 64, 3, 3])     requires_grad: False\n",
      "layer1.2.bn2.weight            Param shape: torch.Size([64])               requires_grad: False\n",
      "layer1.2.bn2.bias              Param shape: torch.Size([64])               requires_grad: False\n",
      "layer1.2.conv3.weight          Param shape: torch.Size([256, 64, 1, 1])    requires_grad: False\n",
      "layer1.2.bn3.weight            Param shape: torch.Size([256])              requires_grad: False\n",
      "layer1.2.bn3.bias              Param shape: torch.Size([256])              requires_grad: False\n",
      "layer2.0.conv1.weight          Param shape: torch.Size([128, 256, 1, 1])   requires_grad: False\n",
      "layer2.0.bn1.weight            Param shape: torch.Size([128])              requires_grad: False\n",
      "layer2.0.bn1.bias              Param shape: torch.Size([128])              requires_grad: False\n",
      "layer2.0.conv2.weight          Param shape: torch.Size([128, 128, 3, 3])   requires_grad: False\n",
      "layer2.0.bn2.weight            Param shape: torch.Size([128])              requires_grad: False\n",
      "layer2.0.bn2.bias              Param shape: torch.Size([128])              requires_grad: False\n",
      "layer2.0.conv3.weight          Param shape: torch.Size([512, 128, 1, 1])   requires_grad: False\n",
      "layer2.0.bn3.weight            Param shape: torch.Size([512])              requires_grad: False\n",
      "layer2.0.bn3.bias              Param shape: torch.Size([512])              requires_grad: False\n",
      "layer2.0.downsample.0.weight   Param shape: torch.Size([512, 256, 1, 1])   requires_grad: False\n",
      "layer2.0.downsample.1.weight   Param shape: torch.Size([512])              requires_grad: False\n",
      "layer2.0.downsample.1.bias     Param shape: torch.Size([512])              requires_grad: False\n",
      "layer2.1.conv1.weight          Param shape: torch.Size([128, 512, 1, 1])   requires_grad: False\n",
      "layer2.1.bn1.weight            Param shape: torch.Size([128])              requires_grad: False\n",
      "layer2.1.bn1.bias              Param shape: torch.Size([128])              requires_grad: False\n",
      "layer2.1.conv2.weight          Param shape: torch.Size([128, 128, 3, 3])   requires_grad: False\n",
      "layer2.1.bn2.weight            Param shape: torch.Size([128])              requires_grad: False\n",
      "layer2.1.bn2.bias              Param shape: torch.Size([128])              requires_grad: False\n",
      "layer2.1.conv3.weight          Param shape: torch.Size([512, 128, 1, 1])   requires_grad: False\n",
      "layer2.1.bn3.weight            Param shape: torch.Size([512])              requires_grad: False\n",
      "layer2.1.bn3.bias              Param shape: torch.Size([512])              requires_grad: False\n",
      "layer2.2.conv1.weight          Param shape: torch.Size([128, 512, 1, 1])   requires_grad: False\n",
      "layer2.2.bn1.weight            Param shape: torch.Size([128])              requires_grad: False\n",
      "layer2.2.bn1.bias              Param shape: torch.Size([128])              requires_grad: False\n",
      "layer2.2.conv2.weight          Param shape: torch.Size([128, 128, 3, 3])   requires_grad: False\n",
      "layer2.2.bn2.weight            Param shape: torch.Size([128])              requires_grad: False\n",
      "layer2.2.bn2.bias              Param shape: torch.Size([128])              requires_grad: False\n",
      "layer2.2.conv3.weight          Param shape: torch.Size([512, 128, 1, 1])   requires_grad: False\n",
      "layer2.2.bn3.weight            Param shape: torch.Size([512])              requires_grad: False\n",
      "layer2.2.bn3.bias              Param shape: torch.Size([512])              requires_grad: False\n",
      "layer2.3.conv1.weight          Param shape: torch.Size([128, 512, 1, 1])   requires_grad: False\n",
      "layer2.3.bn1.weight            Param shape: torch.Size([128])              requires_grad: False\n",
      "layer2.3.bn1.bias              Param shape: torch.Size([128])              requires_grad: False\n",
      "layer2.3.conv2.weight          Param shape: torch.Size([128, 128, 3, 3])   requires_grad: False\n",
      "layer2.3.bn2.weight            Param shape: torch.Size([128])              requires_grad: False\n",
      "layer2.3.bn2.bias              Param shape: torch.Size([128])              requires_grad: False\n",
      "layer2.3.conv3.weight          Param shape: torch.Size([512, 128, 1, 1])   requires_grad: False\n",
      "layer2.3.bn3.weight            Param shape: torch.Size([512])              requires_grad: False\n",
      "layer2.3.bn3.bias              Param shape: torch.Size([512])              requires_grad: False\n",
      "layer3.0.conv1.weight          Param shape: torch.Size([256, 512, 1, 1])   requires_grad: False\n",
      "layer3.0.bn1.weight            Param shape: torch.Size([256])              requires_grad: False\n",
      "layer3.0.bn1.bias              Param shape: torch.Size([256])              requires_grad: False\n",
      "layer3.0.conv2.weight          Param shape: torch.Size([256, 256, 3, 3])   requires_grad: False\n",
      "layer3.0.bn2.weight            Param shape: torch.Size([256])              requires_grad: False\n",
      "layer3.0.bn2.bias              Param shape: torch.Size([256])              requires_grad: False\n",
      "layer3.0.conv3.weight          Param shape: torch.Size([1024, 256, 1, 1])  requires_grad: False\n",
      "layer3.0.bn3.weight            Param shape: torch.Size([1024])             requires_grad: False\n",
      "layer3.0.bn3.bias              Param shape: torch.Size([1024])             requires_grad: False\n",
      "layer3.0.downsample.0.weight   Param shape: torch.Size([1024, 512, 1, 1])  requires_grad: False\n",
      "layer3.0.downsample.1.weight   Param shape: torch.Size([1024])             requires_grad: False\n",
      "layer3.0.downsample.1.bias     Param shape: torch.Size([1024])             requires_grad: False\n",
      "layer3.1.conv1.weight          Param shape: torch.Size([256, 1024, 1, 1])  requires_grad: False\n",
      "layer3.1.bn1.weight            Param shape: torch.Size([256])              requires_grad: False\n",
      "layer3.1.bn1.bias              Param shape: torch.Size([256])              requires_grad: False\n",
      "layer3.1.conv2.weight          Param shape: torch.Size([256, 256, 3, 3])   requires_grad: False\n",
      "layer3.1.bn2.weight            Param shape: torch.Size([256])              requires_grad: False\n",
      "layer3.1.bn2.bias              Param shape: torch.Size([256])              requires_grad: False\n",
      "layer3.1.conv3.weight          Param shape: torch.Size([1024, 256, 1, 1])  requires_grad: False\n",
      "layer3.1.bn3.weight            Param shape: torch.Size([1024])             requires_grad: False\n",
      "layer3.1.bn3.bias              Param shape: torch.Size([1024])             requires_grad: False\n",
      "layer3.2.conv1.weight          Param shape: torch.Size([256, 1024, 1, 1])  requires_grad: False\n",
      "layer3.2.bn1.weight            Param shape: torch.Size([256])              requires_grad: False\n",
      "layer3.2.bn1.bias              Param shape: torch.Size([256])              requires_grad: False\n",
      "layer3.2.conv2.weight          Param shape: torch.Size([256, 256, 3, 3])   requires_grad: False\n",
      "layer3.2.bn2.weight            Param shape: torch.Size([256])              requires_grad: False\n",
      "layer3.2.bn2.bias              Param shape: torch.Size([256])              requires_grad: False\n",
      "layer3.2.conv3.weight          Param shape: torch.Size([1024, 256, 1, 1])  requires_grad: False\n",
      "layer3.2.bn3.weight            Param shape: torch.Size([1024])             requires_grad: False\n",
      "layer3.2.bn3.bias              Param shape: torch.Size([1024])             requires_grad: False\n",
      "layer3.3.conv1.weight          Param shape: torch.Size([256, 1024, 1, 1])  requires_grad: False\n",
      "layer3.3.bn1.weight            Param shape: torch.Size([256])              requires_grad: False\n",
      "layer3.3.bn1.bias              Param shape: torch.Size([256])              requires_grad: False\n",
      "layer3.3.conv2.weight          Param shape: torch.Size([256, 256, 3, 3])   requires_grad: False\n",
      "layer3.3.bn2.weight            Param shape: torch.Size([256])              requires_grad: False\n",
      "layer3.3.bn2.bias              Param shape: torch.Size([256])              requires_grad: False\n",
      "layer3.3.conv3.weight          Param shape: torch.Size([1024, 256, 1, 1])  requires_grad: False\n",
      "layer3.3.bn3.weight            Param shape: torch.Size([1024])             requires_grad: False\n",
      "layer3.3.bn3.bias              Param shape: torch.Size([1024])             requires_grad: False\n",
      "layer3.4.conv1.weight          Param shape: torch.Size([256, 1024, 1, 1])  requires_grad: False\n",
      "layer3.4.bn1.weight            Param shape: torch.Size([256])              requires_grad: False\n",
      "layer3.4.bn1.bias              Param shape: torch.Size([256])              requires_grad: False\n",
      "layer3.4.conv2.weight          Param shape: torch.Size([256, 256, 3, 3])   requires_grad: False\n",
      "layer3.4.bn2.weight            Param shape: torch.Size([256])              requires_grad: False\n",
      "layer3.4.bn2.bias              Param shape: torch.Size([256])              requires_grad: False\n",
      "layer3.4.conv3.weight          Param shape: torch.Size([1024, 256, 1, 1])  requires_grad: False\n",
      "layer3.4.bn3.weight            Param shape: torch.Size([1024])             requires_grad: False\n",
      "layer3.4.bn3.bias              Param shape: torch.Size([1024])             requires_grad: False\n",
      "layer3.5.conv1.weight          Param shape: torch.Size([256, 1024, 1, 1])  requires_grad: False\n",
      "layer3.5.bn1.weight            Param shape: torch.Size([256])              requires_grad: False\n",
      "layer3.5.bn1.bias              Param shape: torch.Size([256])              requires_grad: False\n",
      "layer3.5.conv2.weight          Param shape: torch.Size([256, 256, 3, 3])   requires_grad: False\n",
      "layer3.5.bn2.weight            Param shape: torch.Size([256])              requires_grad: False\n",
      "layer3.5.bn2.bias              Param shape: torch.Size([256])              requires_grad: False\n",
      "layer3.5.conv3.weight          Param shape: torch.Size([1024, 256, 1, 1])  requires_grad: False\n",
      "layer3.5.bn3.weight            Param shape: torch.Size([1024])             requires_grad: False\n",
      "layer3.5.bn3.bias              Param shape: torch.Size([1024])             requires_grad: False\n",
      "layer4.0.conv1.weight          Param shape: torch.Size([512, 1024, 1, 1])  requires_grad: False\n",
      "layer4.0.bn1.weight            Param shape: torch.Size([512])              requires_grad: False\n",
      "layer4.0.bn1.bias              Param shape: torch.Size([512])              requires_grad: False\n",
      "layer4.0.conv2.weight          Param shape: torch.Size([512, 512, 3, 3])   requires_grad: False\n",
      "layer4.0.bn2.weight            Param shape: torch.Size([512])              requires_grad: False\n",
      "layer4.0.bn2.bias              Param shape: torch.Size([512])              requires_grad: False\n",
      "layer4.0.conv3.weight          Param shape: torch.Size([2048, 512, 1, 1])  requires_grad: False\n",
      "layer4.0.bn3.weight            Param shape: torch.Size([2048])             requires_grad: False\n",
      "layer4.0.bn3.bias              Param shape: torch.Size([2048])             requires_grad: False\n",
      "layer4.0.downsample.0.weight   Param shape: torch.Size([2048, 1024, 1, 1]) requires_grad: False\n",
      "layer4.0.downsample.1.weight   Param shape: torch.Size([2048])             requires_grad: False\n",
      "layer4.0.downsample.1.bias     Param shape: torch.Size([2048])             requires_grad: False\n",
      "layer4.1.conv1.weight          Param shape: torch.Size([512, 2048, 1, 1])  requires_grad: False\n",
      "layer4.1.bn1.weight            Param shape: torch.Size([512])              requires_grad: False\n",
      "layer4.1.bn1.bias              Param shape: torch.Size([512])              requires_grad: False\n",
      "layer4.1.conv2.weight          Param shape: torch.Size([512, 512, 3, 3])   requires_grad: False\n",
      "layer4.1.bn2.weight            Param shape: torch.Size([512])              requires_grad: False\n",
      "layer4.1.bn2.bias              Param shape: torch.Size([512])              requires_grad: False\n",
      "layer4.1.conv3.weight          Param shape: torch.Size([2048, 512, 1, 1])  requires_grad: False\n",
      "layer4.1.bn3.weight            Param shape: torch.Size([2048])             requires_grad: False\n",
      "layer4.1.bn3.bias              Param shape: torch.Size([2048])             requires_grad: False\n",
      "layer4.2.conv1.weight          Param shape: torch.Size([512, 2048, 1, 1])  requires_grad: False\n",
      "layer4.2.bn1.weight            Param shape: torch.Size([512])              requires_grad: False\n",
      "layer4.2.bn1.bias              Param shape: torch.Size([512])              requires_grad: False\n",
      "layer4.2.conv2.weight          Param shape: torch.Size([512, 512, 3, 3])   requires_grad: False\n",
      "layer4.2.bn2.weight            Param shape: torch.Size([512])              requires_grad: False\n",
      "layer4.2.bn2.bias              Param shape: torch.Size([512])              requires_grad: False\n",
      "layer4.2.conv3.weight          Param shape: torch.Size([2048, 512, 1, 1])  requires_grad: False\n",
      "layer4.2.bn3.weight            Param shape: torch.Size([2048])             requires_grad: False\n",
      "layer4.2.bn3.bias              Param shape: torch.Size([2048])             requires_grad: False\n",
      "fc.weight                      Param shape: torch.Size([10, 2048])         requires_grad: True\n",
      "fc.bias                        Param shape: torch.Size([10])               requires_grad: True\n"
     ]
    }
   ],
   "source": [
    "for param in model.parameters():\n",
    "    param.requires_grad = False\n",
    "\n",
    "for param in model.fc.parameters():\n",
    "    param.requires_grad = True\n",
    "\n",
    "for name, param in model.named_parameters():\n",
    "    print(f\"{name:<30} Param shape: {str(param.shape):<30} requires_grad: {param.requires_grad}\")"
   ]
  },
  {
   "cell_type": "markdown",
   "metadata": {},
   "source": [
    "<mark>과제</mark>\n",
    "`get_model` 함수를 완성하여 CIFAR10데이터셋에 대한 transfer learning을 수행하라.\n",
    "\n",
    "`fc` 와 `layer4`만 학습하고 나머지 파라미터는 동결시킬것"
   ]
  },
  {
   "cell_type": "code",
   "execution_count": 31,
   "metadata": {},
   "outputs": [],
   "source": [
    "def get_model(model_name, num_classes, config):\n",
    "    if model_name == \"resnet50\":\n",
    "        if config.get('pretrained', \"\"): #if pretrained model name is given\n",
    "            print(f'Using pretrained model {config[\"pretrained\"]}')\n",
    "            model = models.resnet50(weights = config[\"pretrained\"])\n",
    "\n",
    "            ##### YOUR CODE START #####\n",
    "            model.fc = nn.Linear(model.fc.in_features, num_classes)\n",
    "\n",
    "            # 모든 파라미터 동결.\n",
    "            for param in model.parameters():\n",
    "                param.requires_grad = False\n",
    "\n",
    "            # layer4와 fc 레이어의 파라미터만 학습 가능하도록 설정.\n",
    "            for param in model.layer4.parameters():\n",
    "                param.requires_grad = True\n",
    "            for param in model.fc.parameters():\n",
    "                param.requires_grad = True\n",
    "            ##### YOUR CODE END #####\n",
    "                \n",
    "        else:\n",
    "            model = models.resnet50()\n",
    "            model.fc = nn.Linear(model.fc.in_features, num_classes)\n",
    "    elif model_name == \"SimpleCNN\":\n",
    "        model = SimpleCNN()\n",
    "    else:\n",
    "        raise Exception(\"Model not supported: {}\".format(model_name))\n",
    "    \n",
    "    total_params = sum(p.numel() for p in model.parameters())\n",
    "    trainable_params = sum(p.numel() for p in model.parameters() if p.requires_grad)\n",
    "\n",
    "    print(f\"Using model {model_name} with {total_params} parameters ({trainable_params} trainable)\")\n",
    "\n",
    "    return model\n"
   ]
  },
  {
   "cell_type": "code",
   "execution_count": 32,
   "metadata": {
    "tags": [
     "execute_cell"
    ]
   },
   "outputs": [
    {
     "data": {
      "text/html": [
       "wandb version 0.18.3 is available!  To upgrade, please run:\n",
       " $ pip install wandb --upgrade"
      ],
      "text/plain": [
       "<IPython.core.display.HTML object>"
      ]
     },
     "metadata": {},
     "output_type": "display_data"
    },
    {
     "data": {
      "text/html": [
       "Tracking run with wandb version 0.17.7"
      ],
      "text/plain": [
       "<IPython.core.display.HTML object>"
      ]
     },
     "metadata": {},
     "output_type": "display_data"
    },
    {
     "data": {
      "text/html": [
       "Run data is saved locally in <code>/home/jovyan/Deep_Learning_and_its_Application_2/lab_04/wandb/run-20241009_130233-vddb3y2n</code>"
      ],
      "text/plain": [
       "<IPython.core.display.HTML object>"
      ]
     },
     "metadata": {},
     "output_type": "display_data"
    },
    {
     "data": {
      "text/html": [
       "Syncing run <strong><a href='https://wandb.ai/unknownlimitless0301-university-of-suwon6591/CIFAR10_train/runs/vddb3y2n' target=\"_blank\">feasible-smoke-7</a></strong> to <a href='https://wandb.ai/unknownlimitless0301-university-of-suwon6591/CIFAR10_train' target=\"_blank\">Weights & Biases</a> (<a href='https://wandb.me/run' target=\"_blank\">docs</a>)<br/>"
      ],
      "text/plain": [
       "<IPython.core.display.HTML object>"
      ]
     },
     "metadata": {},
     "output_type": "display_data"
    },
    {
     "data": {
      "text/html": [
       " View project at <a href='https://wandb.ai/unknownlimitless0301-university-of-suwon6591/CIFAR10_train' target=\"_blank\">https://wandb.ai/unknownlimitless0301-university-of-suwon6591/CIFAR10_train</a>"
      ],
      "text/plain": [
       "<IPython.core.display.HTML object>"
      ]
     },
     "metadata": {},
     "output_type": "display_data"
    },
    {
     "data": {
      "text/html": [
       " View run at <a href='https://wandb.ai/unknownlimitless0301-university-of-suwon6591/CIFAR10_train/runs/vddb3y2n' target=\"_blank\">https://wandb.ai/unknownlimitless0301-university-of-suwon6591/CIFAR10_train/runs/vddb3y2n</a>"
      ],
      "text/plain": [
       "<IPython.core.display.HTML object>"
      ]
     },
     "metadata": {},
     "output_type": "display_data"
    },
    {
     "name": "stdout",
     "output_type": "stream",
     "text": [
      "Using cuda:0 device\n",
      "Files already downloaded and verified\n",
      "Files already downloaded and verified\n",
      "Using pretrained model IMAGENET1K_V2\n",
      "Using model resnet50 with 23528522 parameters (14985226 trainable)\n",
      "Epoch 1, Train Accuracy: 44.17%, Validation Accuracy: 63.86%\n",
      "Epoch 2, Train Accuracy: 67.73%, Validation Accuracy: 71.87%\n",
      "Epoch 3, Train Accuracy: 72.68%, Validation Accuracy: 74.85%\n",
      "Epoch 4, Train Accuracy: 75.23%, Validation Accuracy: 77.10%\n",
      "Epoch 5, Train Accuracy: 77.02%, Validation Accuracy: 78.71%\n",
      "Epoch 6, Train Accuracy: 78.17%, Validation Accuracy: 80.08%\n",
      "Epoch 7, Train Accuracy: 79.66%, Validation Accuracy: 80.73%\n",
      "Epoch 8, Train Accuracy: 80.79%, Validation Accuracy: 81.53%\n",
      "Epoch 9, Train Accuracy: 81.63%, Validation Accuracy: 82.13%\n",
      "Epoch 10, Train Accuracy: 82.33%, Validation Accuracy: 82.74%\n",
      "Epoch 11, Train Accuracy: 83.02%, Validation Accuracy: 83.20%\n",
      "Epoch 12, Train Accuracy: 83.59%, Validation Accuracy: 83.29%\n",
      "Epoch 13, Train Accuracy: 84.07%, Validation Accuracy: 83.82%\n",
      "Epoch 14, Train Accuracy: 84.67%, Validation Accuracy: 84.49%\n",
      "Epoch 15, Train Accuracy: 84.96%, Validation Accuracy: 84.44%\n",
      "Epoch 16, Train Accuracy: 85.61%, Validation Accuracy: 84.67%\n",
      "Epoch 17, Train Accuracy: 86.17%, Validation Accuracy: 84.55%\n",
      "Epoch 18, Train Accuracy: 86.36%, Validation Accuracy: 85.17%\n",
      "Epoch 19, Train Accuracy: 86.67%, Validation Accuracy: 85.32%\n",
      "Epoch 20, Train Accuracy: 87.09%, Validation Accuracy: 85.53%\n",
      "Epoch 21, Train Accuracy: 87.50%, Validation Accuracy: 85.69%\n",
      "Epoch 22, Train Accuracy: 87.60%, Validation Accuracy: 85.84%\n",
      "Epoch 23, Train Accuracy: 87.89%, Validation Accuracy: 86.00%\n",
      "Epoch 24, Train Accuracy: 88.33%, Validation Accuracy: 86.41%\n",
      "Epoch 25, Train Accuracy: 88.75%, Validation Accuracy: 86.47%\n",
      "Epoch 26, Train Accuracy: 88.85%, Validation Accuracy: 86.01%\n",
      "Epoch 27, Train Accuracy: 89.25%, Validation Accuracy: 86.70%\n",
      "Epoch 28, Train Accuracy: 89.48%, Validation Accuracy: 86.70%\n",
      "Epoch 29, Train Accuracy: 89.69%, Validation Accuracy: 87.02%\n",
      "Epoch 30, Train Accuracy: 89.89%, Validation Accuracy: 86.75%\n",
      "Epoch 31, Train Accuracy: 90.22%, Validation Accuracy: 87.22%\n",
      "Epoch 32, Train Accuracy: 90.51%, Validation Accuracy: 87.08%\n",
      "Epoch 33, Train Accuracy: 90.70%, Validation Accuracy: 87.29%\n",
      "Epoch 34, Train Accuracy: 90.83%, Validation Accuracy: 87.78%\n",
      "Epoch 35, Train Accuracy: 91.21%, Validation Accuracy: 87.56%\n",
      "Epoch 36, Train Accuracy: 91.39%, Validation Accuracy: 87.59%\n",
      "Epoch 37, Train Accuracy: 91.51%, Validation Accuracy: 87.39%\n",
      "Epoch 38, Train Accuracy: 91.85%, Validation Accuracy: 87.72%\n",
      "Epoch 39, Train Accuracy: 91.94%, Validation Accuracy: 87.58%\n",
      "Epoch 40, Train Accuracy: 92.30%, Validation Accuracy: 87.68%\n",
      "Epoch 41, Train Accuracy: 92.42%, Validation Accuracy: 87.38%\n",
      "Epoch 42, Train Accuracy: 92.53%, Validation Accuracy: 87.88%\n",
      "Epoch 43, Train Accuracy: 92.82%, Validation Accuracy: 87.80%\n",
      "Epoch 44, Train Accuracy: 92.95%, Validation Accuracy: 88.05%\n",
      "Epoch 45, Train Accuracy: 93.08%, Validation Accuracy: 87.88%\n",
      "Epoch 46, Train Accuracy: 93.46%, Validation Accuracy: 87.77%\n",
      "Epoch 47, Train Accuracy: 93.44%, Validation Accuracy: 88.00%\n",
      "Epoch 48, Train Accuracy: 93.77%, Validation Accuracy: 88.02%\n",
      "Epoch 49, Train Accuracy: 93.91%, Validation Accuracy: 87.95%\n",
      "Epoch 50, Train Accuracy: 93.99%, Validation Accuracy: 88.03%\n"
     ]
    },
    {
     "data": {
      "application/vnd.jupyter.widget-view+json": {
       "model_id": "",
       "version_major": 2,
       "version_minor": 0
      },
      "text/plain": [
       "VBox(children=(Label(value='0.004 MB of 0.004 MB uploaded\\r'), FloatProgress(value=1.0, max=1.0)))"
      ]
     },
     "metadata": {},
     "output_type": "display_data"
    },
    {
     "data": {
      "text/html": [
       "<style>\n",
       "    table.wandb td:nth-child(1) { padding: 0 10px; text-align: left ; width: auto;} td:nth-child(2) {text-align: left ; width: 100%}\n",
       "    .wandb-row { display: flex; flex-direction: row; flex-wrap: wrap; justify-content: flex-start; width: 100% }\n",
       "    .wandb-col { display: flex; flex-direction: column; flex-basis: 100%; flex: 1; padding: 10px; }\n",
       "    </style>\n",
       "<div class=\"wandb-row\"><div class=\"wandb-col\"><h3>Run history:</h3><br/><table class=\"wandb\"><tr><td>Epoch</td><td>▁▁▁▁▂▂▂▂▂▃▃▃▃▃▃▄▄▄▄▄▅▅▅▅▅▅▆▆▆▆▆▆▇▇▇▇▇███</td></tr><tr><td>Train Accuracy</td><td>▁▄▅▅▆▆▆▆▆▇▇▇▇▇▇▇▇▇▇▇▇▇▇▇▇███████████████</td></tr><tr><td>Train Loss</td><td>█▆▄▃▃▃▃▂▂▂▂▂▂▂▂▂▂▂▂▂▂▂▁▁▁▁▁▁▁▁▁▁▁▁▁▁▁▁▁▁</td></tr><tr><td>Validation Accuracy</td><td>▁▃▄▅▆▆▆▆▇▇▇▇▇▇▇▇▇▇▇█▇███████████████████</td></tr><tr><td>Validation Loss</td><td>█▅▄▃▂▂▂▂▂▂▂▁▁▁▁▁▁▁▁▁▁▁▁▁▁▁▁▁▁▁▁▁▁▁▁▁▁▁▁▁</td></tr></table><br/></div><div class=\"wandb-col\"><h3>Run summary:</h3><br/><table class=\"wandb\"><tr><td>Epoch</td><td>50</td></tr><tr><td>Train Accuracy</td><td>93.994</td></tr><tr><td>Train Loss</td><td>0.18367</td></tr><tr><td>Validation Accuracy</td><td>88.03</td></tr><tr><td>Validation Loss</td><td>0.35852</td></tr></table><br/></div></div>"
      ],
      "text/plain": [
       "<IPython.core.display.HTML object>"
      ]
     },
     "metadata": {},
     "output_type": "display_data"
    },
    {
     "data": {
      "text/html": [
       " View run <strong style=\"color:#cdcd00\">feasible-smoke-7</strong> at: <a href='https://wandb.ai/unknownlimitless0301-university-of-suwon6591/CIFAR10_train/runs/vddb3y2n' target=\"_blank\">https://wandb.ai/unknownlimitless0301-university-of-suwon6591/CIFAR10_train/runs/vddb3y2n</a><br/> View project at: <a href='https://wandb.ai/unknownlimitless0301-university-of-suwon6591/CIFAR10_train' target=\"_blank\">https://wandb.ai/unknownlimitless0301-university-of-suwon6591/CIFAR10_train</a><br/>Synced 6 W&B file(s), 0 media file(s), 0 artifact file(s) and 0 other file(s)"
      ],
      "text/plain": [
       "<IPython.core.display.HTML object>"
      ]
     },
     "metadata": {},
     "output_type": "display_data"
    },
    {
     "data": {
      "text/html": [
       "Find logs at: <code>./wandb/run-20241009_130233-vddb3y2n/logs</code>"
      ],
      "text/plain": [
       "<IPython.core.display.HTML object>"
      ]
     },
     "metadata": {},
     "output_type": "display_data"
    },
    {
     "data": {
      "text/html": [
       "The new W&B backend becomes opt-out in version 0.18.0; try it out with `wandb.require(\"core\")`! See https://wandb.me/wandb-core for more information."
      ],
      "text/plain": [
       "<IPython.core.display.HTML object>"
      ]
     },
     "metadata": {},
     "output_type": "display_data"
    }
   ],
   "source": [
    "config = {\n",
    "    'data_root_dir': '/datasets',\n",
    "    'batch_size': 64,\n",
    "    'learning_rate': 1e-3,\n",
    "    'num_epochs': 50,\n",
    "    'model_name': 'resnet50',\n",
    "    'pretrained' : 'IMAGENET1K_V2',\n",
    "    \"dataset\": \"CIFAR10\",\n",
    "    'wandb_project_name': 'CIFAR10_train',\n",
    "\n",
    "    \"checkpoint_save_interval\" : 10,\n",
    "    \"checkpoint_path\" : \"checkpoints/checkpoint.pth\",\n",
    "    \"best_model_path\" : \"checkpoints/best_model.pth\",\n",
    "    \"load_from_checkpoint\" : None,    # Options: \"latest\", \"best\", or None\n",
    "}\n",
    "train_main(config)"
   ]
  },
  {
   "cell_type": "markdown",
   "metadata": {},
   "source": [
    "#### 선택 과제 (optional)\n",
    "transfer learning 코드를 수정하여 다양한 layer를 freeze/unfreeze해보고 가장 성능이 좋은 transfer learning조건을 찾아보자.\n",
    "\n",
    "<mark>주의</mark> 추가 실습을 하기 전 완성한 과제를 git push하여, 추가실험으로 인한 변화가 제출되지 않도록 주의할것"
   ]
  },
  {
   "cell_type": "markdown",
   "metadata": {},
   "source": [
    "#### Lab을 마무리 짓기 전 저장된 checkpoint를 모두 지워 저장공간을 확보한다"
   ]
  },
  {
   "cell_type": "code",
   "execution_count": 1,
   "metadata": {
    "tags": [
     "execute_cell"
    ]
   },
   "outputs": [],
   "source": [
    "import shutil\n",
    "shutil.rmtree('checkpoints/')"
   ]
  }
 ],
 "metadata": {
  "kernelspec": {
   "display_name": "Python 3 (ipykernel)",
   "language": "python",
   "name": "python3"
  },
  "language_info": {
   "codemirror_mode": {
    "name": "ipython",
    "version": 3
   },
   "file_extension": ".py",
   "mimetype": "text/x-python",
   "name": "python",
   "nbconvert_exporter": "python",
   "pygments_lexer": "ipython3",
   "version": "3.11.9"
  }
 },
 "nbformat": 4,
 "nbformat_minor": 4
}
